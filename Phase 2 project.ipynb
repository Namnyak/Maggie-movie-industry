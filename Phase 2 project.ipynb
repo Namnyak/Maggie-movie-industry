{
 "cells": [
  {
   "cell_type": "markdown",
   "id": "ed514299-b329-4425-9226-ff2505f45fa2",
   "metadata": {},
   "source": [
    "# MOVIE INDUSTRY ANALYSIS: \n",
    "## Analyzing Box Office Trends to Inform Film Production Decisions"
   ]
  },
  {
   "cell_type": "markdown",
   "id": "2a3be9b9-084e-4424-b6c4-503a2d697c54",
   "metadata": {},
   "source": [
    "## Business Understanding\n",
    "\n",
    "The primary objective of this project is to explore and analyze the current box office trends to identify the types of films that are currently achieving the most success. This analysis will be translated into actionable insights that will guide the strategic decisions of our new movie studio.¶\n",
    "\n",
    "##### Specifically, we aim to:\n",
    "Identify the genres and themes that are currently popular.\n",
    "\n",
    "Understand the financial dynamics of film production, including budget-to-revenue relationships.\n",
    "\n",
    "Determine the optimal timing for film releases.\n",
    "\n",
    " Analyze audience demographics and preferences.\n",
    " \n",
    " By understanding the key factors that contribute to a film's success, we can make informed decisions about the genres, themes, and target audiences that will maximize our chances of producing commercially successful films."
   ]
  },
  {
   "cell_type": "markdown",
   "id": "16e7273e-ea98-47a0-87a1-05612599a1b2",
   "metadata": {},
   "source": [
    "## Data Understanding "
   ]
  },
  {
   "cell_type": "markdown",
   "id": "7aa19d8d-ab9a-4e0a-af14-69c7942e9d16",
   "metadata": {},
   "source": [
    "The data for this analysis is sourced from three online movie databases:\n",
    "\n",
    "##### Box Office Mojo\n",
    "Provides detailed box office revenue data for films.\n",
    "\n",
    "##### Internet Movie Database (IMDb)\n",
    "IMDb is a comprehensive online database offering movie information, statistics, and user ratings. The dataset comprises multiple tables, and for this analysis, two tables were used: one with basic movie data and another with user ratings. The key data points include the release date, runtime (in minutes), and average rating. Contains information on genres, cast, crew, ratings, and review\n",
    "\n",
    "##### The Movie Database (TMDB)\n",
    "TMDB is a user-generated database containing detailed information about movies and user ratings. The dataset includes 26,517 entries and 9 data columns. The key data points are the release date and genre, with genre codes sorted by relevance.\n",
    "\n",
    "##### The Numbers (TN)\n",
    "The TN dataset provides box office information for 5,782 movies. The key data points include the release date, production budget, and worldwide gross revenue.\n",
    "\n"
   ]
  },
  {
   "cell_type": "markdown",
   "id": "fa602644-83e3-480a-abd9-4148ca446c32",
   "metadata": {},
   "source": [
    "## IMPORTS AND DATA"
   ]
  },
  {
   "cell_type": "code",
   "execution_count": 196,
   "id": "2a9924a4-ecce-4974-99d1-85d25b911b23",
   "metadata": {},
   "outputs": [],
   "source": [
    "import pandas as pd\n",
    "import seaborn as sns\n",
    "import matplotlib.pyplot as plt\n",
    "import numpy as np\n",
    "\n",
    "%matplotlib inline\n"
   ]
  },
  {
   "cell_type": "markdown",
   "id": "95a93ca5-3cd8-445b-bdbb-7fca44b09fbb",
   "metadata": {},
   "source": [
    "## A.LOADING THE DATASETS"
   ]
  },
  {
   "cell_type": "markdown",
   "id": "ae2e0f7e-28fd-49a3-af0f-b5291e38e5cc",
   "metadata": {},
   "source": [
    "### 1.Loading the Dataset IMDB"
   ]
  },
  {
   "cell_type": "markdown",
   "id": "9e5756a3-51ae-46e6-9d84-b95ce4ebc9d3",
   "metadata": {},
   "source": [
    "IMDB dataset is comprised of multiple tables containing various information about movies. The two tables of interest are: movie_basics and movie_ratings."
   ]
  },
  {
   "cell_type": "markdown",
   "id": "53086a35-b8ad-4de0-b0f2-bcbcd972c032",
   "metadata": {},
   "source": [
    "The movie_basics table includes movie titles, release year, and genres. The movie_ratings table includes average movie rating and number of votes.\n",
    "\n",
    "The primary key for both tables is movie_id.\n",
    "\n",
    "Target data include runtime minutes, genres and average rating."
   ]
  },
  {
   "cell_type": "code",
   "execution_count": 205,
   "id": "860412a5-c759-4c81-a236-740625b424a6",
   "metadata": {},
   "outputs": [],
   "source": [
    "import sqlite3\n",
    "\n",
    "conn = sqlite3.connect(\"data/im.db\")"
   ]
  },
  {
   "cell_type": "code",
   "execution_count": 208,
   "id": "9fac8fe1-7da8-43bd-bf10-7c860a3e75e6",
   "metadata": {},
   "outputs": [
    {
     "data": {
      "text/html": [
       "<div>\n",
       "<style scoped>\n",
       "    .dataframe tbody tr th:only-of-type {\n",
       "        vertical-align: middle;\n",
       "    }\n",
       "\n",
       "    .dataframe tbody tr th {\n",
       "        vertical-align: top;\n",
       "    }\n",
       "\n",
       "    .dataframe thead th {\n",
       "        text-align: right;\n",
       "    }\n",
       "</style>\n",
       "<table border=\"1\" class=\"dataframe\">\n",
       "  <thead>\n",
       "    <tr style=\"text-align: right;\">\n",
       "      <th></th>\n",
       "      <th>type</th>\n",
       "      <th>name</th>\n",
       "      <th>tbl_name</th>\n",
       "      <th>rootpage</th>\n",
       "      <th>sql</th>\n",
       "    </tr>\n",
       "  </thead>\n",
       "  <tbody>\n",
       "    <tr>\n",
       "      <th>0</th>\n",
       "      <td>table</td>\n",
       "      <td>movie_basics</td>\n",
       "      <td>movie_basics</td>\n",
       "      <td>2</td>\n",
       "      <td>CREATE TABLE \"movie_basics\" (\\n\"movie_id\" TEXT...</td>\n",
       "    </tr>\n",
       "    <tr>\n",
       "      <th>1</th>\n",
       "      <td>table</td>\n",
       "      <td>directors</td>\n",
       "      <td>directors</td>\n",
       "      <td>3</td>\n",
       "      <td>CREATE TABLE \"directors\" (\\n\"movie_id\" TEXT,\\n...</td>\n",
       "    </tr>\n",
       "    <tr>\n",
       "      <th>2</th>\n",
       "      <td>table</td>\n",
       "      <td>known_for</td>\n",
       "      <td>known_for</td>\n",
       "      <td>4</td>\n",
       "      <td>CREATE TABLE \"known_for\" (\\n\"person_id\" TEXT,\\...</td>\n",
       "    </tr>\n",
       "    <tr>\n",
       "      <th>3</th>\n",
       "      <td>table</td>\n",
       "      <td>movie_akas</td>\n",
       "      <td>movie_akas</td>\n",
       "      <td>5</td>\n",
       "      <td>CREATE TABLE \"movie_akas\" (\\n\"movie_id\" TEXT,\\...</td>\n",
       "    </tr>\n",
       "    <tr>\n",
       "      <th>4</th>\n",
       "      <td>table</td>\n",
       "      <td>movie_ratings</td>\n",
       "      <td>movie_ratings</td>\n",
       "      <td>6</td>\n",
       "      <td>CREATE TABLE \"movie_ratings\" (\\n\"movie_id\" TEX...</td>\n",
       "    </tr>\n",
       "    <tr>\n",
       "      <th>5</th>\n",
       "      <td>table</td>\n",
       "      <td>persons</td>\n",
       "      <td>persons</td>\n",
       "      <td>7</td>\n",
       "      <td>CREATE TABLE \"persons\" (\\n\"person_id\" TEXT,\\n ...</td>\n",
       "    </tr>\n",
       "    <tr>\n",
       "      <th>6</th>\n",
       "      <td>table</td>\n",
       "      <td>principals</td>\n",
       "      <td>principals</td>\n",
       "      <td>8</td>\n",
       "      <td>CREATE TABLE \"principals\" (\\n\"movie_id\" TEXT,\\...</td>\n",
       "    </tr>\n",
       "    <tr>\n",
       "      <th>7</th>\n",
       "      <td>table</td>\n",
       "      <td>writers</td>\n",
       "      <td>writers</td>\n",
       "      <td>9</td>\n",
       "      <td>CREATE TABLE \"writers\" (\\n\"movie_id\" TEXT,\\n  ...</td>\n",
       "    </tr>\n",
       "  </tbody>\n",
       "</table>\n",
       "</div>"
      ],
      "text/plain": [
       "    type           name       tbl_name  rootpage  \\\n",
       "0  table   movie_basics   movie_basics         2   \n",
       "1  table      directors      directors         3   \n",
       "2  table      known_for      known_for         4   \n",
       "3  table     movie_akas     movie_akas         5   \n",
       "4  table  movie_ratings  movie_ratings         6   \n",
       "5  table        persons        persons         7   \n",
       "6  table     principals     principals         8   \n",
       "7  table        writers        writers         9   \n",
       "\n",
       "                                                 sql  \n",
       "0  CREATE TABLE \"movie_basics\" (\\n\"movie_id\" TEXT...  \n",
       "1  CREATE TABLE \"directors\" (\\n\"movie_id\" TEXT,\\n...  \n",
       "2  CREATE TABLE \"known_for\" (\\n\"person_id\" TEXT,\\...  \n",
       "3  CREATE TABLE \"movie_akas\" (\\n\"movie_id\" TEXT,\\...  \n",
       "4  CREATE TABLE \"movie_ratings\" (\\n\"movie_id\" TEX...  \n",
       "5  CREATE TABLE \"persons\" (\\n\"person_id\" TEXT,\\n ...  \n",
       "6  CREATE TABLE \"principals\" (\\n\"movie_id\" TEXT,\\...  \n",
       "7  CREATE TABLE \"writers\" (\\n\"movie_id\" TEXT,\\n  ...  "
      ]
     },
     "execution_count": 208,
     "metadata": {},
     "output_type": "execute_result"
    }
   ],
   "source": [
    "df_imdb= pd.read_sql(\n",
    "    \"\"\"\n",
    "    SELECT *\n",
    "    FROM sqlite_master;\n",
    "    \"\"\"\n",
    ", conn\n",
    ")\n",
    "\n",
    "df_imdb[df_imdb['type'] == 'table']"
   ]
  },
  {
   "cell_type": "markdown",
   "id": "ea720482-3e6d-4752-bf13-3a811ac0d4e2",
   "metadata": {},
   "source": [
    "#### Summary statistics of imdb"
   ]
  },
  {
   "cell_type": "code",
   "execution_count": 214,
   "id": "a84861bd-8cdb-480f-b38e-dd66c59e108e",
   "metadata": {},
   "outputs": [
    {
     "name": "stdout",
     "output_type": "stream",
     "text": [
      "<class 'pandas.core.frame.DataFrame'>\n",
      "RangeIndex: 8 entries, 0 to 7\n",
      "Data columns (total 5 columns):\n",
      " #   Column    Non-Null Count  Dtype \n",
      "---  ------    --------------  ----- \n",
      " 0   type      8 non-null      object\n",
      " 1   name      8 non-null      object\n",
      " 2   tbl_name  8 non-null      object\n",
      " 3   rootpage  8 non-null      int64 \n",
      " 4   sql       8 non-null      object\n",
      "dtypes: int64(1), object(4)\n",
      "memory usage: 452.0+ bytes\n"
     ]
    }
   ],
   "source": [
    "df_imdb.info()"
   ]
  },
  {
   "cell_type": "markdown",
   "id": "c5d07c50-caa1-4518-a166-0b14ffccce4b",
   "metadata": {},
   "source": []
  },
  {
   "cell_type": "markdown",
   "id": "335b1cc5-a2c7-441e-8c46-9c7da4adf739",
   "metadata": {},
   "source": [
    "### Viewing Tables of interest"
   ]
  },
  {
   "cell_type": "markdown",
   "id": "ddc9cae7-a78f-4ee0-ab6d-68e8945673cc",
   "metadata": {},
   "source": [
    "##### 1. Movie Basics"
   ]
  },
  {
   "cell_type": "code",
   "execution_count": 18,
   "id": "258d0fa9-ff79-4f1a-9889-af66f6f5629f",
   "metadata": {},
   "outputs": [
    {
     "data": {
      "text/html": [
       "<div>\n",
       "<style scoped>\n",
       "    .dataframe tbody tr th:only-of-type {\n",
       "        vertical-align: middle;\n",
       "    }\n",
       "\n",
       "    .dataframe tbody tr th {\n",
       "        vertical-align: top;\n",
       "    }\n",
       "\n",
       "    .dataframe thead th {\n",
       "        text-align: right;\n",
       "    }\n",
       "</style>\n",
       "<table border=\"1\" class=\"dataframe\">\n",
       "  <thead>\n",
       "    <tr style=\"text-align: right;\">\n",
       "      <th></th>\n",
       "      <th>movie_id</th>\n",
       "      <th>primary_title</th>\n",
       "      <th>original_title</th>\n",
       "      <th>start_year</th>\n",
       "      <th>runtime_minutes</th>\n",
       "      <th>genres</th>\n",
       "    </tr>\n",
       "  </thead>\n",
       "  <tbody>\n",
       "    <tr>\n",
       "      <th>0</th>\n",
       "      <td>tt0063540</td>\n",
       "      <td>Sunghursh</td>\n",
       "      <td>Sunghursh</td>\n",
       "      <td>2013</td>\n",
       "      <td>175.0</td>\n",
       "      <td>Action,Crime,Drama</td>\n",
       "    </tr>\n",
       "    <tr>\n",
       "      <th>1</th>\n",
       "      <td>tt0066787</td>\n",
       "      <td>One Day Before the Rainy Season</td>\n",
       "      <td>Ashad Ka Ek Din</td>\n",
       "      <td>2019</td>\n",
       "      <td>114.0</td>\n",
       "      <td>Biography,Drama</td>\n",
       "    </tr>\n",
       "    <tr>\n",
       "      <th>2</th>\n",
       "      <td>tt0069049</td>\n",
       "      <td>The Other Side of the Wind</td>\n",
       "      <td>The Other Side of the Wind</td>\n",
       "      <td>2018</td>\n",
       "      <td>122.0</td>\n",
       "      <td>Drama</td>\n",
       "    </tr>\n",
       "    <tr>\n",
       "      <th>3</th>\n",
       "      <td>tt0069204</td>\n",
       "      <td>Sabse Bada Sukh</td>\n",
       "      <td>Sabse Bada Sukh</td>\n",
       "      <td>2018</td>\n",
       "      <td>NaN</td>\n",
       "      <td>Comedy,Drama</td>\n",
       "    </tr>\n",
       "    <tr>\n",
       "      <th>4</th>\n",
       "      <td>tt0100275</td>\n",
       "      <td>The Wandering Soap Opera</td>\n",
       "      <td>La Telenovela Errante</td>\n",
       "      <td>2017</td>\n",
       "      <td>80.0</td>\n",
       "      <td>Comedy,Drama,Fantasy</td>\n",
       "    </tr>\n",
       "  </tbody>\n",
       "</table>\n",
       "</div>"
      ],
      "text/plain": [
       "    movie_id                    primary_title              original_title  \\\n",
       "0  tt0063540                        Sunghursh                   Sunghursh   \n",
       "1  tt0066787  One Day Before the Rainy Season             Ashad Ka Ek Din   \n",
       "2  tt0069049       The Other Side of the Wind  The Other Side of the Wind   \n",
       "3  tt0069204                  Sabse Bada Sukh             Sabse Bada Sukh   \n",
       "4  tt0100275         The Wandering Soap Opera       La Telenovela Errante   \n",
       "\n",
       "   start_year  runtime_minutes                genres  \n",
       "0        2013            175.0    Action,Crime,Drama  \n",
       "1        2019            114.0       Biography,Drama  \n",
       "2        2018            122.0                 Drama  \n",
       "3        2018              NaN          Comedy,Drama  \n",
       "4        2017             80.0  Comedy,Drama,Fantasy  "
      ]
     },
     "execution_count": 18,
     "metadata": {},
     "output_type": "execute_result"
    }
   ],
   "source": [
    "movie_basics = \"\"\"\n",
    "\n",
    "SELECT *\n",
    "FROM movie_basics\n",
    ";\n",
    "\"\"\"\n",
    "\n",
    "df_basics = pd.read_sql(movie_basics, conn)\n",
    "df_basics.head()\n"
   ]
  },
  {
   "cell_type": "markdown",
   "id": "484c2299-d8b9-4d80-a8d2-7b0984855433",
   "metadata": {},
   "source": [
    "#### Summary statistics of table_movie Basics"
   ]
  },
  {
   "cell_type": "code",
   "execution_count": 20,
   "id": "7ac18b5c-c7b2-4a47-8ad8-b43ba1256c05",
   "metadata": {},
   "outputs": [
    {
     "name": "stdout",
     "output_type": "stream",
     "text": [
      "<class 'pandas.core.frame.DataFrame'>\n",
      "RangeIndex: 146144 entries, 0 to 146143\n",
      "Data columns (total 6 columns):\n",
      " #   Column           Non-Null Count   Dtype  \n",
      "---  ------           --------------   -----  \n",
      " 0   movie_id         146144 non-null  object \n",
      " 1   primary_title    146144 non-null  object \n",
      " 2   original_title   146123 non-null  object \n",
      " 3   start_year       146144 non-null  int64  \n",
      " 4   runtime_minutes  114405 non-null  float64\n",
      " 5   genres           140736 non-null  object \n",
      "dtypes: float64(1), int64(1), object(4)\n",
      "memory usage: 6.7+ MB\n"
     ]
    }
   ],
   "source": [
    "df_basics.info()"
   ]
  },
  {
   "cell_type": "markdown",
   "id": "fd5836a3-fc73-4025-bff1-2eb12cf71a5a",
   "metadata": {},
   "source": [
    "##### 2. Movie ratings"
   ]
  },
  {
   "cell_type": "code",
   "execution_count": 22,
   "id": "ace2f3d4-b8a7-4ef5-8539-de182fc35971",
   "metadata": {},
   "outputs": [
    {
     "data": {
      "text/html": [
       "<div>\n",
       "<style scoped>\n",
       "    .dataframe tbody tr th:only-of-type {\n",
       "        vertical-align: middle;\n",
       "    }\n",
       "\n",
       "    .dataframe tbody tr th {\n",
       "        vertical-align: top;\n",
       "    }\n",
       "\n",
       "    .dataframe thead th {\n",
       "        text-align: right;\n",
       "    }\n",
       "</style>\n",
       "<table border=\"1\" class=\"dataframe\">\n",
       "  <thead>\n",
       "    <tr style=\"text-align: right;\">\n",
       "      <th></th>\n",
       "      <th>movie_id</th>\n",
       "      <th>averagerating</th>\n",
       "      <th>numvotes</th>\n",
       "    </tr>\n",
       "  </thead>\n",
       "  <tbody>\n",
       "    <tr>\n",
       "      <th>0</th>\n",
       "      <td>tt10356526</td>\n",
       "      <td>8.3</td>\n",
       "      <td>31</td>\n",
       "    </tr>\n",
       "    <tr>\n",
       "      <th>1</th>\n",
       "      <td>tt10384606</td>\n",
       "      <td>8.9</td>\n",
       "      <td>559</td>\n",
       "    </tr>\n",
       "    <tr>\n",
       "      <th>2</th>\n",
       "      <td>tt1042974</td>\n",
       "      <td>6.4</td>\n",
       "      <td>20</td>\n",
       "    </tr>\n",
       "    <tr>\n",
       "      <th>3</th>\n",
       "      <td>tt1043726</td>\n",
       "      <td>4.2</td>\n",
       "      <td>50352</td>\n",
       "    </tr>\n",
       "    <tr>\n",
       "      <th>4</th>\n",
       "      <td>tt1060240</td>\n",
       "      <td>6.5</td>\n",
       "      <td>21</td>\n",
       "    </tr>\n",
       "  </tbody>\n",
       "</table>\n",
       "</div>"
      ],
      "text/plain": [
       "     movie_id  averagerating  numvotes\n",
       "0  tt10356526            8.3        31\n",
       "1  tt10384606            8.9       559\n",
       "2   tt1042974            6.4        20\n",
       "3   tt1043726            4.2     50352\n",
       "4   tt1060240            6.5        21"
      ]
     },
     "execution_count": 22,
     "metadata": {},
     "output_type": "execute_result"
    }
   ],
   "source": [
    "movie_ratings = \"\"\"\n",
    "\n",
    "SELECT *\n",
    "FROM movie_ratings\n",
    ";\n",
    "\"\"\"\n",
    "\n",
    "df_ratings = pd.read_sql(movie_ratings, conn)\n",
    "df_ratings.head()"
   ]
  },
  {
   "cell_type": "markdown",
   "id": "0fcc5f86-9c19-4e05-add6-0f9f6a84ecfb",
   "metadata": {},
   "source": [
    "#### Summary statistics of movie ratings"
   ]
  },
  {
   "cell_type": "code",
   "execution_count": 24,
   "id": "98bcdfac-536d-4690-9b69-e721883c58bf",
   "metadata": {},
   "outputs": [
    {
     "name": "stdout",
     "output_type": "stream",
     "text": [
      "<class 'pandas.core.frame.DataFrame'>\n",
      "RangeIndex: 73856 entries, 0 to 73855\n",
      "Data columns (total 3 columns):\n",
      " #   Column         Non-Null Count  Dtype  \n",
      "---  ------         --------------  -----  \n",
      " 0   movie_id       73856 non-null  object \n",
      " 1   averagerating  73856 non-null  float64\n",
      " 2   numvotes       73856 non-null  int64  \n",
      "dtypes: float64(1), int64(1), object(1)\n",
      "memory usage: 1.7+ MB\n"
     ]
    }
   ],
   "source": [
    "df_ratings.info()"
   ]
  },
  {
   "cell_type": "markdown",
   "id": "8ee68da8-38b3-4b59-aa5a-5abac0ab034e",
   "metadata": {},
   "source": []
  },
  {
   "cell_type": "markdown",
   "id": "bb6622af-82f2-435d-b897-50316323d23c",
   "metadata": {},
   "source": [
    "### 2. Loading Dataset Box office Mojo"
   ]
  },
  {
   "cell_type": "code",
   "execution_count": 27,
   "id": "7aec3972-f319-44a0-902e-60d7d0396b19",
   "metadata": {},
   "outputs": [
    {
     "data": {
      "text/html": [
       "<div>\n",
       "<style scoped>\n",
       "    .dataframe tbody tr th:only-of-type {\n",
       "        vertical-align: middle;\n",
       "    }\n",
       "\n",
       "    .dataframe tbody tr th {\n",
       "        vertical-align: top;\n",
       "    }\n",
       "\n",
       "    .dataframe thead th {\n",
       "        text-align: right;\n",
       "    }\n",
       "</style>\n",
       "<table border=\"1\" class=\"dataframe\">\n",
       "  <thead>\n",
       "    <tr style=\"text-align: right;\">\n",
       "      <th></th>\n",
       "      <th>title</th>\n",
       "      <th>studio</th>\n",
       "      <th>domestic_gross</th>\n",
       "      <th>foreign_gross</th>\n",
       "      <th>year</th>\n",
       "    </tr>\n",
       "  </thead>\n",
       "  <tbody>\n",
       "    <tr>\n",
       "      <th>0</th>\n",
       "      <td>Toy Story 3</td>\n",
       "      <td>BV</td>\n",
       "      <td>415000000.0</td>\n",
       "      <td>652000000</td>\n",
       "      <td>2010</td>\n",
       "    </tr>\n",
       "    <tr>\n",
       "      <th>1</th>\n",
       "      <td>Alice in Wonderland (2010)</td>\n",
       "      <td>BV</td>\n",
       "      <td>334200000.0</td>\n",
       "      <td>691300000</td>\n",
       "      <td>2010</td>\n",
       "    </tr>\n",
       "    <tr>\n",
       "      <th>2</th>\n",
       "      <td>Harry Potter and the Deathly Hallows Part 1</td>\n",
       "      <td>WB</td>\n",
       "      <td>296000000.0</td>\n",
       "      <td>664300000</td>\n",
       "      <td>2010</td>\n",
       "    </tr>\n",
       "    <tr>\n",
       "      <th>3</th>\n",
       "      <td>Inception</td>\n",
       "      <td>WB</td>\n",
       "      <td>292600000.0</td>\n",
       "      <td>535700000</td>\n",
       "      <td>2010</td>\n",
       "    </tr>\n",
       "    <tr>\n",
       "      <th>4</th>\n",
       "      <td>Shrek Forever After</td>\n",
       "      <td>P/DW</td>\n",
       "      <td>238700000.0</td>\n",
       "      <td>513900000</td>\n",
       "      <td>2010</td>\n",
       "    </tr>\n",
       "    <tr>\n",
       "      <th>...</th>\n",
       "      <td>...</td>\n",
       "      <td>...</td>\n",
       "      <td>...</td>\n",
       "      <td>...</td>\n",
       "      <td>...</td>\n",
       "    </tr>\n",
       "    <tr>\n",
       "      <th>3382</th>\n",
       "      <td>The Quake</td>\n",
       "      <td>Magn.</td>\n",
       "      <td>6200.0</td>\n",
       "      <td>NaN</td>\n",
       "      <td>2018</td>\n",
       "    </tr>\n",
       "    <tr>\n",
       "      <th>3383</th>\n",
       "      <td>Edward II (2018 re-release)</td>\n",
       "      <td>FM</td>\n",
       "      <td>4800.0</td>\n",
       "      <td>NaN</td>\n",
       "      <td>2018</td>\n",
       "    </tr>\n",
       "    <tr>\n",
       "      <th>3384</th>\n",
       "      <td>El Pacto</td>\n",
       "      <td>Sony</td>\n",
       "      <td>2500.0</td>\n",
       "      <td>NaN</td>\n",
       "      <td>2018</td>\n",
       "    </tr>\n",
       "    <tr>\n",
       "      <th>3385</th>\n",
       "      <td>The Swan</td>\n",
       "      <td>Synergetic</td>\n",
       "      <td>2400.0</td>\n",
       "      <td>NaN</td>\n",
       "      <td>2018</td>\n",
       "    </tr>\n",
       "    <tr>\n",
       "      <th>3386</th>\n",
       "      <td>An Actor Prepares</td>\n",
       "      <td>Grav.</td>\n",
       "      <td>1700.0</td>\n",
       "      <td>NaN</td>\n",
       "      <td>2018</td>\n",
       "    </tr>\n",
       "  </tbody>\n",
       "</table>\n",
       "<p>3387 rows × 5 columns</p>\n",
       "</div>"
      ],
      "text/plain": [
       "                                            title      studio  domestic_gross  \\\n",
       "0                                     Toy Story 3          BV     415000000.0   \n",
       "1                      Alice in Wonderland (2010)          BV     334200000.0   \n",
       "2     Harry Potter and the Deathly Hallows Part 1          WB     296000000.0   \n",
       "3                                       Inception          WB     292600000.0   \n",
       "4                             Shrek Forever After        P/DW     238700000.0   \n",
       "...                                           ...         ...             ...   \n",
       "3382                                    The Quake       Magn.          6200.0   \n",
       "3383                  Edward II (2018 re-release)          FM          4800.0   \n",
       "3384                                     El Pacto        Sony          2500.0   \n",
       "3385                                     The Swan  Synergetic          2400.0   \n",
       "3386                            An Actor Prepares       Grav.          1700.0   \n",
       "\n",
       "     foreign_gross  year  \n",
       "0        652000000  2010  \n",
       "1        691300000  2010  \n",
       "2        664300000  2010  \n",
       "3        535700000  2010  \n",
       "4        513900000  2010  \n",
       "...            ...   ...  \n",
       "3382           NaN  2018  \n",
       "3383           NaN  2018  \n",
       "3384           NaN  2018  \n",
       "3385           NaN  2018  \n",
       "3386           NaN  2018  \n",
       "\n",
       "[3387 rows x 5 columns]"
      ]
     },
     "execution_count": 27,
     "metadata": {},
     "output_type": "execute_result"
    }
   ],
   "source": [
    "df_bom= pd.read_csv(\"data/bom.movie_gross.csv\")\n",
    "df_bom"
   ]
  },
  {
   "cell_type": "markdown",
   "id": "6a7391cf-2116-4fc6-8bd9-53cb9fe67c0e",
   "metadata": {},
   "source": [
    "### Summary statistics of the dataset"
   ]
  },
  {
   "cell_type": "code",
   "execution_count": 29,
   "id": "d3ee2aed-0792-4027-94e2-af45df8246d4",
   "metadata": {},
   "outputs": [
    {
     "name": "stdout",
     "output_type": "stream",
     "text": [
      "<class 'pandas.core.frame.DataFrame'>\n",
      "RangeIndex: 3387 entries, 0 to 3386\n",
      "Data columns (total 5 columns):\n",
      " #   Column          Non-Null Count  Dtype  \n",
      "---  ------          --------------  -----  \n",
      " 0   title           3387 non-null   object \n",
      " 1   studio          3382 non-null   object \n",
      " 2   domestic_gross  3359 non-null   float64\n",
      " 3   foreign_gross   2037 non-null   object \n",
      " 4   year            3387 non-null   int64  \n",
      "dtypes: float64(1), int64(1), object(3)\n",
      "memory usage: 132.4+ KB\n"
     ]
    }
   ],
   "source": [
    "df_bom.info()"
   ]
  },
  {
   "cell_type": "markdown",
   "id": "d7720256-96eb-4741-b4d2-bbab3d29a016",
   "metadata": {},
   "source": [
    "### 3. Loading the dataset The MovieDB (TMDB)"
   ]
  },
  {
   "cell_type": "code",
   "execution_count": 31,
   "id": "108d9bea-f185-4257-8ad8-bfd50eaf9e97",
   "metadata": {},
   "outputs": [
    {
     "data": {
      "text/html": [
       "<div>\n",
       "<style scoped>\n",
       "    .dataframe tbody tr th:only-of-type {\n",
       "        vertical-align: middle;\n",
       "    }\n",
       "\n",
       "    .dataframe tbody tr th {\n",
       "        vertical-align: top;\n",
       "    }\n",
       "\n",
       "    .dataframe thead th {\n",
       "        text-align: right;\n",
       "    }\n",
       "</style>\n",
       "<table border=\"1\" class=\"dataframe\">\n",
       "  <thead>\n",
       "    <tr style=\"text-align: right;\">\n",
       "      <th></th>\n",
       "      <th>Unnamed: 0</th>\n",
       "      <th>genre_ids</th>\n",
       "      <th>id</th>\n",
       "      <th>original_language</th>\n",
       "      <th>original_title</th>\n",
       "      <th>popularity</th>\n",
       "      <th>release_date</th>\n",
       "      <th>title</th>\n",
       "      <th>vote_average</th>\n",
       "      <th>vote_count</th>\n",
       "    </tr>\n",
       "  </thead>\n",
       "  <tbody>\n",
       "    <tr>\n",
       "      <th>0</th>\n",
       "      <td>0</td>\n",
       "      <td>[12, 14, 10751]</td>\n",
       "      <td>12444</td>\n",
       "      <td>en</td>\n",
       "      <td>Harry Potter and the Deathly Hallows: Part 1</td>\n",
       "      <td>33.533</td>\n",
       "      <td>2010-11-19</td>\n",
       "      <td>Harry Potter and the Deathly Hallows: Part 1</td>\n",
       "      <td>7.7</td>\n",
       "      <td>10788</td>\n",
       "    </tr>\n",
       "    <tr>\n",
       "      <th>1</th>\n",
       "      <td>1</td>\n",
       "      <td>[14, 12, 16, 10751]</td>\n",
       "      <td>10191</td>\n",
       "      <td>en</td>\n",
       "      <td>How to Train Your Dragon</td>\n",
       "      <td>28.734</td>\n",
       "      <td>2010-03-26</td>\n",
       "      <td>How to Train Your Dragon</td>\n",
       "      <td>7.7</td>\n",
       "      <td>7610</td>\n",
       "    </tr>\n",
       "    <tr>\n",
       "      <th>2</th>\n",
       "      <td>2</td>\n",
       "      <td>[12, 28, 878]</td>\n",
       "      <td>10138</td>\n",
       "      <td>en</td>\n",
       "      <td>Iron Man 2</td>\n",
       "      <td>28.515</td>\n",
       "      <td>2010-05-07</td>\n",
       "      <td>Iron Man 2</td>\n",
       "      <td>6.8</td>\n",
       "      <td>12368</td>\n",
       "    </tr>\n",
       "    <tr>\n",
       "      <th>3</th>\n",
       "      <td>3</td>\n",
       "      <td>[16, 35, 10751]</td>\n",
       "      <td>862</td>\n",
       "      <td>en</td>\n",
       "      <td>Toy Story</td>\n",
       "      <td>28.005</td>\n",
       "      <td>1995-11-22</td>\n",
       "      <td>Toy Story</td>\n",
       "      <td>7.9</td>\n",
       "      <td>10174</td>\n",
       "    </tr>\n",
       "    <tr>\n",
       "      <th>4</th>\n",
       "      <td>4</td>\n",
       "      <td>[28, 878, 12]</td>\n",
       "      <td>27205</td>\n",
       "      <td>en</td>\n",
       "      <td>Inception</td>\n",
       "      <td>27.920</td>\n",
       "      <td>2010-07-16</td>\n",
       "      <td>Inception</td>\n",
       "      <td>8.3</td>\n",
       "      <td>22186</td>\n",
       "    </tr>\n",
       "    <tr>\n",
       "      <th>...</th>\n",
       "      <td>...</td>\n",
       "      <td>...</td>\n",
       "      <td>...</td>\n",
       "      <td>...</td>\n",
       "      <td>...</td>\n",
       "      <td>...</td>\n",
       "      <td>...</td>\n",
       "      <td>...</td>\n",
       "      <td>...</td>\n",
       "      <td>...</td>\n",
       "    </tr>\n",
       "    <tr>\n",
       "      <th>26512</th>\n",
       "      <td>26512</td>\n",
       "      <td>[27, 18]</td>\n",
       "      <td>488143</td>\n",
       "      <td>en</td>\n",
       "      <td>Laboratory Conditions</td>\n",
       "      <td>0.600</td>\n",
       "      <td>2018-10-13</td>\n",
       "      <td>Laboratory Conditions</td>\n",
       "      <td>0.0</td>\n",
       "      <td>1</td>\n",
       "    </tr>\n",
       "    <tr>\n",
       "      <th>26513</th>\n",
       "      <td>26513</td>\n",
       "      <td>[18, 53]</td>\n",
       "      <td>485975</td>\n",
       "      <td>en</td>\n",
       "      <td>_EXHIBIT_84xxx_</td>\n",
       "      <td>0.600</td>\n",
       "      <td>2018-05-01</td>\n",
       "      <td>_EXHIBIT_84xxx_</td>\n",
       "      <td>0.0</td>\n",
       "      <td>1</td>\n",
       "    </tr>\n",
       "    <tr>\n",
       "      <th>26514</th>\n",
       "      <td>26514</td>\n",
       "      <td>[14, 28, 12]</td>\n",
       "      <td>381231</td>\n",
       "      <td>en</td>\n",
       "      <td>The Last One</td>\n",
       "      <td>0.600</td>\n",
       "      <td>2018-10-01</td>\n",
       "      <td>The Last One</td>\n",
       "      <td>0.0</td>\n",
       "      <td>1</td>\n",
       "    </tr>\n",
       "    <tr>\n",
       "      <th>26515</th>\n",
       "      <td>26515</td>\n",
       "      <td>[10751, 12, 28]</td>\n",
       "      <td>366854</td>\n",
       "      <td>en</td>\n",
       "      <td>Trailer Made</td>\n",
       "      <td>0.600</td>\n",
       "      <td>2018-06-22</td>\n",
       "      <td>Trailer Made</td>\n",
       "      <td>0.0</td>\n",
       "      <td>1</td>\n",
       "    </tr>\n",
       "    <tr>\n",
       "      <th>26516</th>\n",
       "      <td>26516</td>\n",
       "      <td>[53, 27]</td>\n",
       "      <td>309885</td>\n",
       "      <td>en</td>\n",
       "      <td>The Church</td>\n",
       "      <td>0.600</td>\n",
       "      <td>2018-10-05</td>\n",
       "      <td>The Church</td>\n",
       "      <td>0.0</td>\n",
       "      <td>1</td>\n",
       "    </tr>\n",
       "  </tbody>\n",
       "</table>\n",
       "<p>26517 rows × 10 columns</p>\n",
       "</div>"
      ],
      "text/plain": [
       "       Unnamed: 0            genre_ids      id original_language  \\\n",
       "0               0      [12, 14, 10751]   12444                en   \n",
       "1               1  [14, 12, 16, 10751]   10191                en   \n",
       "2               2        [12, 28, 878]   10138                en   \n",
       "3               3      [16, 35, 10751]     862                en   \n",
       "4               4        [28, 878, 12]   27205                en   \n",
       "...           ...                  ...     ...               ...   \n",
       "26512       26512             [27, 18]  488143                en   \n",
       "26513       26513             [18, 53]  485975                en   \n",
       "26514       26514         [14, 28, 12]  381231                en   \n",
       "26515       26515      [10751, 12, 28]  366854                en   \n",
       "26516       26516             [53, 27]  309885                en   \n",
       "\n",
       "                                     original_title  popularity release_date  \\\n",
       "0      Harry Potter and the Deathly Hallows: Part 1      33.533   2010-11-19   \n",
       "1                          How to Train Your Dragon      28.734   2010-03-26   \n",
       "2                                        Iron Man 2      28.515   2010-05-07   \n",
       "3                                         Toy Story      28.005   1995-11-22   \n",
       "4                                         Inception      27.920   2010-07-16   \n",
       "...                                             ...         ...          ...   \n",
       "26512                         Laboratory Conditions       0.600   2018-10-13   \n",
       "26513                               _EXHIBIT_84xxx_       0.600   2018-05-01   \n",
       "26514                                  The Last One       0.600   2018-10-01   \n",
       "26515                                  Trailer Made       0.600   2018-06-22   \n",
       "26516                                    The Church       0.600   2018-10-05   \n",
       "\n",
       "                                              title  vote_average  vote_count  \n",
       "0      Harry Potter and the Deathly Hallows: Part 1           7.7       10788  \n",
       "1                          How to Train Your Dragon           7.7        7610  \n",
       "2                                        Iron Man 2           6.8       12368  \n",
       "3                                         Toy Story           7.9       10174  \n",
       "4                                         Inception           8.3       22186  \n",
       "...                                             ...           ...         ...  \n",
       "26512                         Laboratory Conditions           0.0           1  \n",
       "26513                               _EXHIBIT_84xxx_           0.0           1  \n",
       "26514                                  The Last One           0.0           1  \n",
       "26515                                  Trailer Made           0.0           1  \n",
       "26516                                    The Church           0.0           1  \n",
       "\n",
       "[26517 rows x 10 columns]"
      ]
     },
     "execution_count": 31,
     "metadata": {},
     "output_type": "execute_result"
    }
   ],
   "source": [
    "df_tmdb = pd.read_csv(\"data/tmdb.movies.csv\")\n",
    "df_tmdb"
   ]
  },
  {
   "cell_type": "code",
   "execution_count": 32,
   "id": "b89ae963-7e0e-4c22-ad65-7d34358277f5",
   "metadata": {},
   "outputs": [
    {
     "name": "stdout",
     "output_type": "stream",
     "text": [
      "<class 'pandas.core.frame.DataFrame'>\n",
      "RangeIndex: 26517 entries, 0 to 26516\n",
      "Data columns (total 10 columns):\n",
      " #   Column             Non-Null Count  Dtype  \n",
      "---  ------             --------------  -----  \n",
      " 0   Unnamed: 0         26517 non-null  int64  \n",
      " 1   genre_ids          26517 non-null  object \n",
      " 2   id                 26517 non-null  int64  \n",
      " 3   original_language  26517 non-null  object \n",
      " 4   original_title     26517 non-null  object \n",
      " 5   popularity         26517 non-null  float64\n",
      " 6   release_date       26517 non-null  object \n",
      " 7   title              26517 non-null  object \n",
      " 8   vote_average       26517 non-null  float64\n",
      " 9   vote_count         26517 non-null  int64  \n",
      "dtypes: float64(2), int64(3), object(5)\n",
      "memory usage: 2.0+ MB\n"
     ]
    }
   ],
   "source": [
    "#### Summary statistics\n",
    "df_tmdb.info()"
   ]
  },
  {
   "cell_type": "markdown",
   "id": "999f82fd-6fe5-466b-b7c6-864238470418",
   "metadata": {},
   "source": [
    "### 4. Loading the dataset 'The Numbers' (TN)"
   ]
  },
  {
   "cell_type": "code",
   "execution_count": 34,
   "id": "744ab995-225b-43f8-af5d-f0d4762fce30",
   "metadata": {},
   "outputs": [
    {
     "data": {
      "text/html": [
       "<div>\n",
       "<style scoped>\n",
       "    .dataframe tbody tr th:only-of-type {\n",
       "        vertical-align: middle;\n",
       "    }\n",
       "\n",
       "    .dataframe tbody tr th {\n",
       "        vertical-align: top;\n",
       "    }\n",
       "\n",
       "    .dataframe thead th {\n",
       "        text-align: right;\n",
       "    }\n",
       "</style>\n",
       "<table border=\"1\" class=\"dataframe\">\n",
       "  <thead>\n",
       "    <tr style=\"text-align: right;\">\n",
       "      <th></th>\n",
       "      <th>id</th>\n",
       "      <th>release_date</th>\n",
       "      <th>movie</th>\n",
       "      <th>production_budget</th>\n",
       "      <th>domestic_gross</th>\n",
       "      <th>worldwide_gross</th>\n",
       "    </tr>\n",
       "  </thead>\n",
       "  <tbody>\n",
       "    <tr>\n",
       "      <th>0</th>\n",
       "      <td>1</td>\n",
       "      <td>Dec 18, 2009</td>\n",
       "      <td>Avatar</td>\n",
       "      <td>$425,000,000</td>\n",
       "      <td>$760,507,625</td>\n",
       "      <td>$2,776,345,279</td>\n",
       "    </tr>\n",
       "    <tr>\n",
       "      <th>1</th>\n",
       "      <td>2</td>\n",
       "      <td>May 20, 2011</td>\n",
       "      <td>Pirates of the Caribbean: On Stranger Tides</td>\n",
       "      <td>$410,600,000</td>\n",
       "      <td>$241,063,875</td>\n",
       "      <td>$1,045,663,875</td>\n",
       "    </tr>\n",
       "    <tr>\n",
       "      <th>2</th>\n",
       "      <td>3</td>\n",
       "      <td>Jun 7, 2019</td>\n",
       "      <td>Dark Phoenix</td>\n",
       "      <td>$350,000,000</td>\n",
       "      <td>$42,762,350</td>\n",
       "      <td>$149,762,350</td>\n",
       "    </tr>\n",
       "    <tr>\n",
       "      <th>3</th>\n",
       "      <td>4</td>\n",
       "      <td>May 1, 2015</td>\n",
       "      <td>Avengers: Age of Ultron</td>\n",
       "      <td>$330,600,000</td>\n",
       "      <td>$459,005,868</td>\n",
       "      <td>$1,403,013,963</td>\n",
       "    </tr>\n",
       "    <tr>\n",
       "      <th>4</th>\n",
       "      <td>5</td>\n",
       "      <td>Dec 15, 2017</td>\n",
       "      <td>Star Wars Ep. VIII: The Last Jedi</td>\n",
       "      <td>$317,000,000</td>\n",
       "      <td>$620,181,382</td>\n",
       "      <td>$1,316,721,747</td>\n",
       "    </tr>\n",
       "    <tr>\n",
       "      <th>...</th>\n",
       "      <td>...</td>\n",
       "      <td>...</td>\n",
       "      <td>...</td>\n",
       "      <td>...</td>\n",
       "      <td>...</td>\n",
       "      <td>...</td>\n",
       "    </tr>\n",
       "    <tr>\n",
       "      <th>5777</th>\n",
       "      <td>78</td>\n",
       "      <td>Dec 31, 2018</td>\n",
       "      <td>Red 11</td>\n",
       "      <td>$7,000</td>\n",
       "      <td>$0</td>\n",
       "      <td>$0</td>\n",
       "    </tr>\n",
       "    <tr>\n",
       "      <th>5778</th>\n",
       "      <td>79</td>\n",
       "      <td>Apr 2, 1999</td>\n",
       "      <td>Following</td>\n",
       "      <td>$6,000</td>\n",
       "      <td>$48,482</td>\n",
       "      <td>$240,495</td>\n",
       "    </tr>\n",
       "    <tr>\n",
       "      <th>5779</th>\n",
       "      <td>80</td>\n",
       "      <td>Jul 13, 2005</td>\n",
       "      <td>Return to the Land of Wonders</td>\n",
       "      <td>$5,000</td>\n",
       "      <td>$1,338</td>\n",
       "      <td>$1,338</td>\n",
       "    </tr>\n",
       "    <tr>\n",
       "      <th>5780</th>\n",
       "      <td>81</td>\n",
       "      <td>Sep 29, 2015</td>\n",
       "      <td>A Plague So Pleasant</td>\n",
       "      <td>$1,400</td>\n",
       "      <td>$0</td>\n",
       "      <td>$0</td>\n",
       "    </tr>\n",
       "    <tr>\n",
       "      <th>5781</th>\n",
       "      <td>82</td>\n",
       "      <td>Aug 5, 2005</td>\n",
       "      <td>My Date With Drew</td>\n",
       "      <td>$1,100</td>\n",
       "      <td>$181,041</td>\n",
       "      <td>$181,041</td>\n",
       "    </tr>\n",
       "  </tbody>\n",
       "</table>\n",
       "<p>5782 rows × 6 columns</p>\n",
       "</div>"
      ],
      "text/plain": [
       "      id  release_date                                        movie  \\\n",
       "0      1  Dec 18, 2009                                       Avatar   \n",
       "1      2  May 20, 2011  Pirates of the Caribbean: On Stranger Tides   \n",
       "2      3   Jun 7, 2019                                 Dark Phoenix   \n",
       "3      4   May 1, 2015                      Avengers: Age of Ultron   \n",
       "4      5  Dec 15, 2017            Star Wars Ep. VIII: The Last Jedi   \n",
       "...   ..           ...                                          ...   \n",
       "5777  78  Dec 31, 2018                                       Red 11   \n",
       "5778  79   Apr 2, 1999                                    Following   \n",
       "5779  80  Jul 13, 2005                Return to the Land of Wonders   \n",
       "5780  81  Sep 29, 2015                         A Plague So Pleasant   \n",
       "5781  82   Aug 5, 2005                            My Date With Drew   \n",
       "\n",
       "     production_budget domestic_gross worldwide_gross  \n",
       "0         $425,000,000   $760,507,625  $2,776,345,279  \n",
       "1         $410,600,000   $241,063,875  $1,045,663,875  \n",
       "2         $350,000,000    $42,762,350    $149,762,350  \n",
       "3         $330,600,000   $459,005,868  $1,403,013,963  \n",
       "4         $317,000,000   $620,181,382  $1,316,721,747  \n",
       "...                ...            ...             ...  \n",
       "5777            $7,000             $0              $0  \n",
       "5778            $6,000        $48,482        $240,495  \n",
       "5779            $5,000         $1,338          $1,338  \n",
       "5780            $1,400             $0              $0  \n",
       "5781            $1,100       $181,041        $181,041  \n",
       "\n",
       "[5782 rows x 6 columns]"
      ]
     },
     "execution_count": 34,
     "metadata": {},
     "output_type": "execute_result"
    }
   ],
   "source": [
    "df_tn = pd.read_csv(\"data/tn.movie_budgets.csv\")\n",
    "df_tn"
   ]
  },
  {
   "cell_type": "code",
   "execution_count": 35,
   "id": "3b927c1d-145d-4c0b-a37c-5ebe305d4de9",
   "metadata": {},
   "outputs": [
    {
     "name": "stdout",
     "output_type": "stream",
     "text": [
      "<class 'pandas.core.frame.DataFrame'>\n",
      "RangeIndex: 5782 entries, 0 to 5781\n",
      "Data columns (total 6 columns):\n",
      " #   Column             Non-Null Count  Dtype \n",
      "---  ------             --------------  ----- \n",
      " 0   id                 5782 non-null   int64 \n",
      " 1   release_date       5782 non-null   object\n",
      " 2   movie              5782 non-null   object\n",
      " 3   production_budget  5782 non-null   object\n",
      " 4   domestic_gross     5782 non-null   object\n",
      " 5   worldwide_gross    5782 non-null   object\n",
      "dtypes: int64(1), object(5)\n",
      "memory usage: 271.2+ KB\n"
     ]
    }
   ],
   "source": [
    "df_tn.info()"
   ]
  },
  {
   "cell_type": "markdown",
   "id": "98f13ab1-c283-4df0-ab92-bd92d7c8bd90",
   "metadata": {},
   "source": [
    "## B.Data Preparation"
   ]
  },
  {
   "cell_type": "markdown",
   "id": "126ce612-246b-44bd-afb3-3ee5d4b085a4",
   "metadata": {},
   "source": [
    "#### a.Checking for missing values in each Datasets"
   ]
  },
  {
   "cell_type": "code",
   "execution_count": 38,
   "id": "15e7f624-a078-4fb4-87e0-ee57a2ac846c",
   "metadata": {},
   "outputs": [
    {
     "name": "stdout",
     "output_type": "stream",
     "text": [
      "Missing values in df_bom:\n",
      "title                0\n",
      "studio               5\n",
      "domestic_gross      28\n",
      "foreign_gross     1350\n",
      "year                 0\n",
      "dtype: int64\n",
      "\n",
      "Missing values in df_tmdb:\n",
      "Unnamed: 0           0\n",
      "genre_ids            0\n",
      "id                   0\n",
      "original_language    0\n",
      "original_title       0\n",
      "popularity           0\n",
      "release_date         0\n",
      "title                0\n",
      "vote_average         0\n",
      "vote_count           0\n",
      "dtype: int64\n",
      "\n",
      "Missing values in df_tn:\n",
      "id                   0\n",
      "release_date         0\n",
      "movie                0\n",
      "production_budget    0\n",
      "domestic_gross       0\n",
      "worldwide_gross      0\n",
      "dtype: int64\n"
     ]
    }
   ],
   "source": [
    "missing_values_bom = df_bom.isnull().sum()\n",
    "missing_values_tmdb = df_tmdb.isnull().sum()\n",
    "missing_values_tn = df_tn.isnull().sum()\n",
    "\n",
    "print(\"Missing values in df_bom:\")\n",
    "print(missing_values_bom)\n",
    "\n",
    "print(\"\\nMissing values in df_tmdb:\")\n",
    "print(missing_values_tmdb)\n",
    "\n",
    "print(\"\\nMissing values in df_tn:\")\n",
    "print(missing_values_tn)"
   ]
  },
  {
   "cell_type": "markdown",
   "id": "f6065c7b-577c-4968-a4b6-017bb8a75598",
   "metadata": {},
   "source": [
    "#### Checking for missing values Across Rows"
   ]
  },
  {
   "cell_type": "code",
   "execution_count": 40,
   "id": "45598633-fd4f-4e5d-925e-cb2e36947370",
   "metadata": {},
   "outputs": [
    {
     "name": "stdout",
     "output_type": "stream",
     "text": [
      "Rows with missing values in df_bom:\n",
      "                                       title      studio  domestic_gross  \\\n",
      "210            Outside the Law (Hors-la-loi)         NaN         96900.0   \n",
      "222                                  Flipped          WB       1800000.0   \n",
      "230               It's a Wonderful Afterlife         UTV             NaN   \n",
      "254   The Polar Express (IMAX re-issue 2010)          WB        673000.0   \n",
      "267                           Tiny Furniture         IFC        392000.0   \n",
      "...                                      ...         ...             ...   \n",
      "3382                               The Quake       Magn.          6200.0   \n",
      "3383             Edward II (2018 re-release)          FM          4800.0   \n",
      "3384                                El Pacto        Sony          2500.0   \n",
      "3385                                The Swan  Synergetic          2400.0   \n",
      "3386                       An Actor Prepares       Grav.          1700.0   \n",
      "\n",
      "     foreign_gross  year  \n",
      "210        3300000  2010  \n",
      "222            NaN  2010  \n",
      "230        1300000  2010  \n",
      "254            NaN  2010  \n",
      "267            NaN  2010  \n",
      "...            ...   ...  \n",
      "3382           NaN  2018  \n",
      "3383           NaN  2018  \n",
      "3384           NaN  2018  \n",
      "3385           NaN  2018  \n",
      "3386           NaN  2018  \n",
      "\n",
      "[1380 rows x 5 columns]\n",
      "\n",
      "Rows with missing values in df_tmdb:\n",
      "Unnamed: 0             0\n",
      "genre_ids              0\n",
      "id                     0\n",
      "original_language      0\n",
      "original_title         0\n",
      "popularity           0.0\n",
      "release_date           0\n",
      "title                  0\n",
      "vote_average         0.0\n",
      "vote_count             0\n",
      "dtype: object\n",
      "\n",
      "Rows with missing values in df_tn:\n",
      "id                   0\n",
      "release_date         0\n",
      "movie                0\n",
      "production_budget    0\n",
      "domestic_gross       0\n",
      "worldwide_gross      0\n",
      "dtype: object\n"
     ]
    }
   ],
   "source": [
    "# Check for rows with missing values in df_bom\n",
    "rows_with_missing_values_bom = df_bom[df_bom.isnull().any(axis=1)]\n",
    "\n",
    "# Check for rows with missing values in df_tmdb\n",
    "rows_with_missing_values_tmdb = df_tmdb[df_tmdb.isnull().any(axis=1)].sum()\n",
    "\n",
    "# Check for rows with missing values in df_tn\n",
    "rows_with_missing_values_tn = df_tn[df_tn.isnull().any(axis=1)].sum()\n",
    "\n",
    "# Print the results\n",
    "print(\"Rows with missing values in df_bom:\")\n",
    "print(rows_with_missing_values_bom)\n",
    "\n",
    "print(\"\\nRows with missing values in df_tmdb:\")\n",
    "print(rows_with_missing_values_tmdb)\n",
    "\n",
    "print(\"\\nRows with missing values in df_tn:\")\n",
    "print(rows_with_missing_values_tn)"
   ]
  },
  {
   "cell_type": "markdown",
   "id": "77088343-3a5f-4d3b-b5aa-c6460b8be451",
   "metadata": {},
   "source": [
    "#### checking for missing values in dataset IMDB, table (movie basics)"
   ]
  },
  {
   "cell_type": "code",
   "execution_count": 42,
   "id": "a5c9b9c9-7788-4b34-ac2c-3090a6252206",
   "metadata": {},
   "outputs": [
    {
     "data": {
      "text/html": [
       "<div>\n",
       "<style scoped>\n",
       "    .dataframe tbody tr th:only-of-type {\n",
       "        vertical-align: middle;\n",
       "    }\n",
       "\n",
       "    .dataframe tbody tr th {\n",
       "        vertical-align: top;\n",
       "    }\n",
       "\n",
       "    .dataframe thead th {\n",
       "        text-align: right;\n",
       "    }\n",
       "</style>\n",
       "<table border=\"1\" class=\"dataframe\">\n",
       "  <thead>\n",
       "    <tr style=\"text-align: right;\">\n",
       "      <th></th>\n",
       "      <th>total_rows</th>\n",
       "      <th>missing_id</th>\n",
       "      <th>missing_primary_title</th>\n",
       "      <th>missing_original_title</th>\n",
       "      <th>missing_start_year</th>\n",
       "      <th>missing_runtime_minutes</th>\n",
       "      <th>missing_genres</th>\n",
       "    </tr>\n",
       "  </thead>\n",
       "  <tbody>\n",
       "    <tr>\n",
       "      <th>0</th>\n",
       "      <td>146144</td>\n",
       "      <td>0</td>\n",
       "      <td>0</td>\n",
       "      <td>21</td>\n",
       "      <td>0</td>\n",
       "      <td>31739</td>\n",
       "      <td>5408</td>\n",
       "    </tr>\n",
       "  </tbody>\n",
       "</table>\n",
       "</div>"
      ],
      "text/plain": [
       "   total_rows  missing_id  missing_primary_title  missing_original_title  \\\n",
       "0      146144           0                      0                      21   \n",
       "\n",
       "   missing_start_year  missing_runtime_minutes  missing_genres  \n",
       "0                   0                    31739            5408  "
      ]
     },
     "execution_count": 42,
     "metadata": {},
     "output_type": "execute_result"
    }
   ],
   "source": [
    "missing_values_basics =  \"\"\"\n",
    "SELECT \n",
    "    COUNT(*) AS total_rows,\n",
    "    SUM(CASE WHEN movie_id IS NULL THEN 1 ELSE 0 END) AS missing_id,\n",
    "    SUM(CASE WHEN primary_title IS NULL THEN 1 ELSE 0 END) AS missing_primary_title,\n",
    "    SUM(CASE WHEN original_title IS NULL THEN 1 ELSE 0 END) AS missing_original_title,\n",
    "    SUM(CASE WHEN start_year IS NULL THEN 1 ELSE 0 END) AS missing_start_year,\n",
    "    SUM(CASE WHEN runtime_minutes IS NULL THEN 1 ELSE 0 END) AS missing_runtime_minutes,\n",
    "    SUM(CASE WHEN genres  IS NULL THEN 1 ELSE 0 END) AS missing_genres\n",
    "FROM movie_basics\n",
    ";\n",
    "\"\"\"\n",
    "\n",
    "pd.read_sql(missing_values_basics, conn)"
   ]
  },
  {
   "cell_type": "markdown",
   "id": "fd1e2c48-4cbb-44f7-97fe-f0f2c160bef7",
   "metadata": {},
   "source": [
    "### Checking for missing values in IMDB IN table 'Movie _ratings\""
   ]
  },
  {
   "cell_type": "code",
   "execution_count": 44,
   "id": "cb7a418f-8f30-4445-af8b-a46e78c53807",
   "metadata": {},
   "outputs": [
    {
     "data": {
      "text/html": [
       "<div>\n",
       "<style scoped>\n",
       "    .dataframe tbody tr th:only-of-type {\n",
       "        vertical-align: middle;\n",
       "    }\n",
       "\n",
       "    .dataframe tbody tr th {\n",
       "        vertical-align: top;\n",
       "    }\n",
       "\n",
       "    .dataframe thead th {\n",
       "        text-align: right;\n",
       "    }\n",
       "</style>\n",
       "<table border=\"1\" class=\"dataframe\">\n",
       "  <thead>\n",
       "    <tr style=\"text-align: right;\">\n",
       "      <th></th>\n",
       "      <th>total_rows</th>\n",
       "      <th>missing_id</th>\n",
       "      <th>missing_averagerating</th>\n",
       "      <th>mising_numvotes</th>\n",
       "    </tr>\n",
       "  </thead>\n",
       "  <tbody>\n",
       "    <tr>\n",
       "      <th>0</th>\n",
       "      <td>73856</td>\n",
       "      <td>0</td>\n",
       "      <td>0</td>\n",
       "      <td>0</td>\n",
       "    </tr>\n",
       "  </tbody>\n",
       "</table>\n",
       "</div>"
      ],
      "text/plain": [
       "   total_rows  missing_id  missing_averagerating  mising_numvotes\n",
       "0       73856           0                      0                0"
      ]
     },
     "execution_count": 44,
     "metadata": {},
     "output_type": "execute_result"
    }
   ],
   "source": [
    "missing_values_ratings =  \"\"\"\n",
    "SELECT \n",
    "    COUNT(*) AS total_rows,\n",
    "    SUM(CASE WHEN movie_id IS NULL THEN 1 ELSE 0 END) AS missing_id,\n",
    "    SUM(CASE WHEN averagerating IS NULL THEN 1 ELSE 0 END) AS missing_averagerating,\n",
    "    SUM(CASE WHEN numvotes IS NULL THEN 1 ELSE 0 END) AS mising_numvotes\n",
    "FROM movie_ratings\n",
    ";\n",
    "\"\"\"\n",
    "\n",
    "pd.read_sql(missing_values_ratings, conn)"
   ]
  },
  {
   "cell_type": "markdown",
   "id": "89c05bae-4dfc-49e7-892f-260c027029fd",
   "metadata": {},
   "source": [
    "### Calculating the percentage of Missing Values"
   ]
  },
  {
   "cell_type": "markdown",
   "id": "fbfdd6c9-f449-4cef-8dea-15a3b5557d1f",
   "metadata": {},
   "source": [
    "#### Calculating the percentage of missing values in the dataset 'The Box Office Mojo'"
   ]
  },
  {
   "cell_type": "code",
   "execution_count": 47,
   "id": "47723c0d-1c8e-46d2-a7de-80bf4d61db04",
   "metadata": {},
   "outputs": [
    {
     "data": {
      "text/plain": [
       "title              0.000000\n",
       "studio             0.147623\n",
       "domestic_gross     0.826690\n",
       "foreign_gross     39.858282\n",
       "year               0.000000\n",
       "dtype: float64"
      ]
     },
     "execution_count": 47,
     "metadata": {},
     "output_type": "execute_result"
    }
   ],
   "source": [
    "missing_percentage_bom = (missing_values_bom / len(df_bom)) * 100\n",
    "missing_percentage_bom"
   ]
  },
  {
   "cell_type": "markdown",
   "id": "16a71bd6-707c-449d-9a0c-8d53c8904417",
   "metadata": {},
   "source": [
    "#### Calculating the percentage of missing values in dataset IMDB, table 'Movie Basics'"
   ]
  },
  {
   "cell_type": "code",
   "execution_count": 49,
   "id": "7b8e4966-d446-477c-a5c1-d7729e76d827",
   "metadata": {},
   "outputs": [
    {
     "data": {
      "text/html": [
       "<div>\n",
       "<style scoped>\n",
       "    .dataframe tbody tr th:only-of-type {\n",
       "        vertical-align: middle;\n",
       "    }\n",
       "\n",
       "    .dataframe tbody tr th {\n",
       "        vertical-align: top;\n",
       "    }\n",
       "\n",
       "    .dataframe thead th {\n",
       "        text-align: right;\n",
       "    }\n",
       "</style>\n",
       "<table border=\"1\" class=\"dataframe\">\n",
       "  <thead>\n",
       "    <tr style=\"text-align: right;\">\n",
       "      <th></th>\n",
       "      <th>total_rows</th>\n",
       "      <th>miss_id_percentage</th>\n",
       "      <th>miss_title_percentage</th>\n",
       "      <th>miss_origin_percentage</th>\n",
       "      <th>miss_start_year_percentage</th>\n",
       "      <th>miss_runtime_minutes_percentage</th>\n",
       "      <th>miss_genres_percentage</th>\n",
       "    </tr>\n",
       "  </thead>\n",
       "  <tbody>\n",
       "    <tr>\n",
       "      <th>0</th>\n",
       "      <td>146144</td>\n",
       "      <td>0.0</td>\n",
       "      <td>0</td>\n",
       "      <td>0.014369</td>\n",
       "      <td>0</td>\n",
       "      <td>21.717621</td>\n",
       "      <td>3.70046</td>\n",
       "    </tr>\n",
       "  </tbody>\n",
       "</table>\n",
       "</div>"
      ],
      "text/plain": [
       "   total_rows  miss_id_percentage  miss_title_percentage  \\\n",
       "0      146144                 0.0                      0   \n",
       "\n",
       "   miss_origin_percentage  miss_start_year_percentage  \\\n",
       "0                0.014369                           0   \n",
       "\n",
       "   miss_runtime_minutes_percentage  miss_genres_percentage  \n",
       "0                        21.717621                 3.70046  "
      ]
     },
     "execution_count": 49,
     "metadata": {},
     "output_type": "execute_result"
    }
   ],
   "source": [
    "percentage_missing_values = \"\"\"\n",
    "SELECT \n",
    "    COUNT(*) AS total_rows,\n",
    "    (CAST(SUM(CASE WHEN movie_id IS NULL THEN 1 ELSE 0 END) AS FLOAT)/ COUNT(*)) * 100 AS miss_id_percentage,\n",
    "    \n",
    "    (SUM(CASE WHEN primary_title IS NULL THEN 1 ELSE 0 END) / COUNT(*)) * 100 AS miss_title_percentage,\n",
    "\n",
    "    (CAST(SUM(CASE WHEN original_title IS NULL THEN 1 ELSE 0 END)AS FLOAT) / COUNT(*)) * 100 AS miss_origin_percentage,\n",
    "    \n",
    "    (SUM(CASE WHEN start_year IS NULL THEN 1 ELSE 0 END) / COUNT(*)) * 100 AS miss_start_year_percentage,\n",
    "    \n",
    "    (CAST(SUM(CASE WHEN runtime_minutes IS NULL THEN 1 ELSE 0 END) AS FLOAT) / COUNT(*)) * 100 AS miss_runtime_minutes_percentage,\n",
    "    \n",
    "    (CAST(SUM(CASE WHEN genres IS NULL THEN 1 ELSE 0 END)AS FLOAT) / COUNT(*)) * 100 AS miss_genres_percentage\n",
    "FROM movie_basics\n",
    ";\n",
    "\"\"\"\n",
    "pd.read_sql(percentage_missing_values, conn)"
   ]
  },
  {
   "cell_type": "markdown",
   "id": "c0ee37d0-96d6-4710-86cb-0d48153d6d95",
   "metadata": {},
   "source": [
    "#### Comment\n",
    "From the above observation , all other datasets do not contain missing values except for\n",
    "Box Office Mojo where the columns domestic_ross  and studio having less than 1% missing values and Foreign_ross leading with 39%  missing values.\n",
    "The dataset IMDB table 'movie_basics' have missing values in the following columns 'original_title', \n",
    "'runtime_minutes', 'genres' which a percentage of (0.014369, 21.717621, 3.70046) respectively."
   ]
  },
  {
   "cell_type": "markdown",
   "id": "2de98543-6769-4795-bf62-ebb1be8de22e",
   "metadata": {},
   "source": [
    "### Dropping Rows with Missing values"
   ]
  },
  {
   "cell_type": "markdown",
   "id": "8f72cdde-79c7-4cf9-b459-fb5c4c23455f",
   "metadata": {},
   "source": [
    "Since the missing values in the dataset(The Box Office Mojo) are minimal. It would be necessary to remove the missing values since\n",
    "it will NOT significantly impact the dataset perfomance, integrity and analysis."
   ]
  },
  {
   "cell_type": "code",
   "execution_count": 53,
   "id": "0a621a1e-9529-4af3-abe5-1ab74ec2b6f1",
   "metadata": {},
   "outputs": [
    {
     "name": "stdout",
     "output_type": "stream",
     "text": [
      "<class 'pandas.core.frame.DataFrame'>\n",
      "Index: 2007 entries, 0 to 3353\n",
      "Data columns (total 5 columns):\n",
      " #   Column          Non-Null Count  Dtype  \n",
      "---  ------          --------------  -----  \n",
      " 0   title           2007 non-null   object \n",
      " 1   studio          2007 non-null   object \n",
      " 2   domestic_gross  2007 non-null   float64\n",
      " 3   foreign_gross   2007 non-null   object \n",
      " 4   year            2007 non-null   int64  \n",
      "dtypes: float64(1), int64(1), object(3)\n",
      "memory usage: 94.1+ KB\n"
     ]
    }
   ],
   "source": [
    "#dropping rows with missing values\n",
    "df_bom_cleaned = df_bom.dropna()\n",
    "\n",
    "## Display the cleaned dataset\n",
    "#print(df_bom_cleaned)\n",
    "\n",
    "# checking for the rows with missing values in the cleaned dataset.\n",
    "#cleaned_rows_with_missing_values_bom = df_bom_cleaned[df_bom_cleaned.isnull().any(axis=1)]\n",
    "#cleaned_rows_with_missing_values_bom\n",
    "\n",
    "df_bom_cleaned.info()"
   ]
  },
  {
   "cell_type": "markdown",
   "id": "c2d8a1c6-ed18-4241-bffd-c867048643bd",
   "metadata": {},
   "source": [
    "#### Comment\n",
    "\n",
    "since the rows with missing values have been dropped, the number of rows reduces from 3387 rows to 2007 rows"
   ]
  },
  {
   "cell_type": "markdown",
   "id": "58a50d3b-e18c-488c-a076-310c54cada7f",
   "metadata": {},
   "source": [
    "#### Dropping rows with missing values in the  sql dataset 'IMDB'in the table 'Movie basics'"
   ]
  },
  {
   "cell_type": "markdown",
   "id": "a5125ba4-84d1-4cef-b505-21a4acd905a4",
   "metadata": {},
   "source": [
    "#delete_miss_movie_basics = \"\"\"\n",
    "DELETE FROM movie_basics\n",
    "WHERE movie_id IS NULL\n",
    "   OR primary_title IS NULL\n",
    "   OR original_title IS NULL\n",
    "   OR start_year IS NULL\n",
    "   OR runtime_minutes IS NULL\n",
    "   OR genres IS NULL;\n",
    "\"\"\"\n",
    "## conn.execute(delete_miss_movie_basics)\n",
    "## pd.read_sql(delete_miss_movie_basics, conn)"
   ]
  },
  {
   "cell_type": "code",
   "execution_count": 57,
   "id": "2fe7da3e-ad8e-45f7-b6e8-7d3b0c4dc397",
   "metadata": {},
   "outputs": [],
   "source": [
    "#checking if the missing values have been deleted.\n",
    "#pd.read_sql(missing_values_basics, conn)"
   ]
  },
  {
   "cell_type": "markdown",
   "id": "44b3fe6a-d5ce-42b9-bb02-ee79c17b93e3",
   "metadata": {},
   "source": [
    "#### Dropping unnecessary columns in the dataset"
   ]
  },
  {
   "cell_type": "code",
   "execution_count": null,
   "id": "084d8cc8-7a77-4f39-b218-a679107dc4b0",
   "metadata": {},
   "outputs": [],
   "source": []
  },
  {
   "cell_type": "markdown",
   "id": "2297cbff-5778-42ab-8166-96ffbb9179eb",
   "metadata": {},
   "source": [
    "### b.Checking for duplicates in the datasets"
   ]
  },
  {
   "cell_type": "markdown",
   "id": "0499c836-93f1-420f-ba08-36e557a4363b",
   "metadata": {},
   "source": [
    "#### Checking for duplicates in the dataset sql(IMDB), table 'Movie basics'\n",
    "\n"
   ]
  },
  {
   "cell_type": "code",
   "execution_count": 61,
   "id": "cb4ccd52-6c42-46ab-a2ef-90e94a941723",
   "metadata": {},
   "outputs": [
    {
     "data": {
      "text/html": [
       "<div>\n",
       "<style scoped>\n",
       "    .dataframe tbody tr th:only-of-type {\n",
       "        vertical-align: middle;\n",
       "    }\n",
       "\n",
       "    .dataframe tbody tr th {\n",
       "        vertical-align: top;\n",
       "    }\n",
       "\n",
       "    .dataframe thead th {\n",
       "        text-align: right;\n",
       "    }\n",
       "</style>\n",
       "<table border=\"1\" class=\"dataframe\">\n",
       "  <thead>\n",
       "    <tr style=\"text-align: right;\">\n",
       "      <th></th>\n",
       "      <th>movie_id</th>\n",
       "      <th>primary_title</th>\n",
       "      <th>original_title</th>\n",
       "      <th>start_year</th>\n",
       "      <th>runtime_minutes</th>\n",
       "      <th>genres</th>\n",
       "      <th>count</th>\n",
       "    </tr>\n",
       "  </thead>\n",
       "  <tbody>\n",
       "  </tbody>\n",
       "</table>\n",
       "</div>"
      ],
      "text/plain": [
       "Empty DataFrame\n",
       "Columns: [movie_id, primary_title, original_title, start_year, runtime_minutes, genres, count]\n",
       "Index: []"
      ]
     },
     "execution_count": 61,
     "metadata": {},
     "output_type": "execute_result"
    }
   ],
   "source": [
    "duplicates_movie_basics = \"\"\"\n",
    "SELECT \n",
    "    movie_id,\n",
    "    primary_title,\n",
    "    original_title,\n",
    "    start_year,\n",
    "    runtime_minutes,\n",
    "    genres, \n",
    "    COUNT(*) AS count\n",
    "FROM \n",
    "    movie_basics\n",
    "GROUP BY \n",
    "    movie_id,\n",
    "    primary_title,\n",
    "    original_title,\n",
    "    start_year,\n",
    "    runtime_minutes,\n",
    "    genres\n",
    "HAVING \n",
    "    COUNT(*) > 1;\n",
    "\"\"\"\n",
    "\n",
    "df_duplicates_movie_basics = pd.read_sql(duplicates_movie_basics, conn)\n",
    "df_duplicates_movie_basics"
   ]
  },
  {
   "cell_type": "code",
   "execution_count": 62,
   "id": "20a6ca6e-0c4e-4903-afc0-9e3c6db0c635",
   "metadata": {},
   "outputs": [
    {
     "data": {
      "text/html": [
       "<div>\n",
       "<style scoped>\n",
       "    .dataframe tbody tr th:only-of-type {\n",
       "        vertical-align: middle;\n",
       "    }\n",
       "\n",
       "    .dataframe tbody tr th {\n",
       "        vertical-align: top;\n",
       "    }\n",
       "\n",
       "    .dataframe thead th {\n",
       "        text-align: right;\n",
       "    }\n",
       "</style>\n",
       "<table border=\"1\" class=\"dataframe\">\n",
       "  <thead>\n",
       "    <tr style=\"text-align: right;\">\n",
       "      <th></th>\n",
       "      <th>movie_id</th>\n",
       "      <th>primary_title</th>\n",
       "      <th>original_title</th>\n",
       "      <th>start_year</th>\n",
       "      <th>runtime_minutes</th>\n",
       "      <th>genres</th>\n",
       "      <th>count</th>\n",
       "    </tr>\n",
       "  </thead>\n",
       "  <tbody>\n",
       "  </tbody>\n",
       "</table>\n",
       "</div>"
      ],
      "text/plain": [
       "Empty DataFrame\n",
       "Columns: [movie_id, primary_title, original_title, start_year, runtime_minutes, genres, count]\n",
       "Index: []"
      ]
     },
     "execution_count": 62,
     "metadata": {},
     "output_type": "execute_result"
    }
   ],
   "source": [
    "duplicates_movie_ratings = \"\"\"\n",
    "SELECT \n",
    "    movie_id,\n",
    "    averagerating,\n",
    "    numvotes,\n",
    "    COUNT(*) AS count\n",
    "FROM \n",
    "    movie_ratings\n",
    "GROUP BY \n",
    "     movie_id,\n",
    "    averagerating,\n",
    "    numvotes\n",
    "HAVING \n",
    "    COUNT(*) > 1;\n",
    "\"\"\"\n",
    "\n",
    "df_duplicates_movie_ratings = pd.read_sql(duplicates_movie_basics, conn)\n",
    "df_duplicates_movie_ratings"
   ]
  },
  {
   "cell_type": "markdown",
   "id": "6565c385-6b37-46cd-9921-7cc7ed59e517",
   "metadata": {},
   "source": [
    "#### Checking for duplicates in the dataset the Box office Mojo"
   ]
  },
  {
   "cell_type": "code",
   "execution_count": 64,
   "id": "ebef50f8-3406-41c5-a097-6b579478b95e",
   "metadata": {},
   "outputs": [
    {
     "data": {
      "text/plain": [
       "title               0\n",
       "studio              0\n",
       "domestic_gross    0.0\n",
       "foreign_gross       0\n",
       "year                0\n",
       "dtype: object"
      ]
     },
     "execution_count": 64,
     "metadata": {},
     "output_type": "execute_result"
    }
   ],
   "source": [
    "duplicate_bom = df_bom[df_bom.duplicated(keep=False)].sum()\n",
    "duplicate_bom"
   ]
  },
  {
   "cell_type": "markdown",
   "id": "dbf62d1a-2f37-4f94-b71a-d763d8bd0a8b",
   "metadata": {},
   "source": [
    "#### Checking for duplicates in the dataset 'The MovieDB (TMDB)'"
   ]
  },
  {
   "cell_type": "code",
   "execution_count": 66,
   "id": "2fe7bdef-4e41-4980-af65-8ad9ab286b3f",
   "metadata": {},
   "outputs": [
    {
     "data": {
      "text/plain": [
       "Unnamed: 0             0\n",
       "genre_ids              0\n",
       "id                     0\n",
       "original_language      0\n",
       "original_title         0\n",
       "popularity           0.0\n",
       "release_date           0\n",
       "title                  0\n",
       "vote_average         0.0\n",
       "vote_count             0\n",
       "dtype: object"
      ]
     },
     "execution_count": 66,
     "metadata": {},
     "output_type": "execute_result"
    }
   ],
   "source": [
    "duplicates_tmdb = df_tmdb[df_tmdb.duplicated(keep=False)].sum()\n",
    "duplicates_tmdb"
   ]
  },
  {
   "cell_type": "markdown",
   "id": "07590529-4ee6-40d6-97aa-2560a7e004e6",
   "metadata": {},
   "source": [
    "#### Checking for duplicates in the dataset 'The Numbers' (TN)"
   ]
  },
  {
   "cell_type": "code",
   "execution_count": 68,
   "id": "ecb4d330-16cc-4229-94d9-d874d167660e",
   "metadata": {},
   "outputs": [
    {
     "data": {
      "text/plain": [
       "id                   0\n",
       "release_date         0\n",
       "movie                0\n",
       "production_budget    0\n",
       "domestic_gross       0\n",
       "worldwide_gross      0\n",
       "dtype: object"
      ]
     },
     "execution_count": 68,
     "metadata": {},
     "output_type": "execute_result"
    }
   ],
   "source": [
    "duplicates_tn = df_tn[df_tn.duplicated(keep=False)].sum()\n",
    "duplicates_tn\n"
   ]
  },
  {
   "cell_type": "markdown",
   "id": "cad794f0-6434-4dae-ad21-6d3fac167670",
   "metadata": {},
   "source": [
    "#### Comment\n",
    "There are no duplicates in all of the  four datasets "
   ]
  },
  {
   "cell_type": "markdown",
   "id": "1530a1eb-6522-4ff1-ab56-99730bfcd02c",
   "metadata": {},
   "source": [
    "## EXPLORATORY DATA ANALYSIS (EDA)"
   ]
  },
  {
   "cell_type": "markdown",
   "id": "d0d53d0e-78d6-488c-b27a-54e57c528127",
   "metadata": {},
   "source": [
    "### Merging the datasets BOxMojo and TN"
   ]
  },
  {
   "cell_type": "code",
   "execution_count": 72,
   "id": "cab7c7e7-a78f-4796-a3f5-10d2f2e5bebe",
   "metadata": {},
   "outputs": [
    {
     "data": {
      "text/html": [
       "<div>\n",
       "<style scoped>\n",
       "    .dataframe tbody tr th:only-of-type {\n",
       "        vertical-align: middle;\n",
       "    }\n",
       "\n",
       "    .dataframe tbody tr th {\n",
       "        vertical-align: top;\n",
       "    }\n",
       "\n",
       "    .dataframe thead th {\n",
       "        text-align: right;\n",
       "    }\n",
       "</style>\n",
       "<table border=\"1\" class=\"dataframe\">\n",
       "  <thead>\n",
       "    <tr style=\"text-align: right;\">\n",
       "      <th></th>\n",
       "      <th>title</th>\n",
       "      <th>studio</th>\n",
       "      <th>domestic_gross_x</th>\n",
       "      <th>foreign_gross</th>\n",
       "      <th>year</th>\n",
       "      <th>id</th>\n",
       "      <th>release_date</th>\n",
       "      <th>movie</th>\n",
       "      <th>production_budget</th>\n",
       "      <th>domestic_gross_y</th>\n",
       "      <th>worldwide_gross</th>\n",
       "    </tr>\n",
       "  </thead>\n",
       "  <tbody>\n",
       "    <tr>\n",
       "      <th>0</th>\n",
       "      <td>toy story 3</td>\n",
       "      <td>BV</td>\n",
       "      <td>415000000.0</td>\n",
       "      <td>652000000.0</td>\n",
       "      <td>2010</td>\n",
       "      <td>47</td>\n",
       "      <td>Jun 18, 2010</td>\n",
       "      <td>toy story 3</td>\n",
       "      <td>200000000.0</td>\n",
       "      <td>415004880.0</td>\n",
       "      <td>1.068880e+09</td>\n",
       "    </tr>\n",
       "    <tr>\n",
       "      <th>1</th>\n",
       "      <td>inception</td>\n",
       "      <td>WB</td>\n",
       "      <td>292600000.0</td>\n",
       "      <td>535700000.0</td>\n",
       "      <td>2010</td>\n",
       "      <td>38</td>\n",
       "      <td>Jul 16, 2010</td>\n",
       "      <td>inception</td>\n",
       "      <td>160000000.0</td>\n",
       "      <td>292576195.0</td>\n",
       "      <td>8.355246e+08</td>\n",
       "    </tr>\n",
       "    <tr>\n",
       "      <th>2</th>\n",
       "      <td>shrek forever after</td>\n",
       "      <td>P/DW</td>\n",
       "      <td>238700000.0</td>\n",
       "      <td>513900000.0</td>\n",
       "      <td>2010</td>\n",
       "      <td>27</td>\n",
       "      <td>May 21, 2010</td>\n",
       "      <td>shrek forever after</td>\n",
       "      <td>165000000.0</td>\n",
       "      <td>238736787.0</td>\n",
       "      <td>7.562447e+08</td>\n",
       "    </tr>\n",
       "    <tr>\n",
       "      <th>3</th>\n",
       "      <td>the twilight saga eclipse</td>\n",
       "      <td>Sum.</td>\n",
       "      <td>300500000.0</td>\n",
       "      <td>398000000.0</td>\n",
       "      <td>2010</td>\n",
       "      <td>53</td>\n",
       "      <td>Jun 30, 2010</td>\n",
       "      <td>the twilight saga eclipse</td>\n",
       "      <td>68000000.0</td>\n",
       "      <td>300531751.0</td>\n",
       "      <td>7.061028e+08</td>\n",
       "    </tr>\n",
       "    <tr>\n",
       "      <th>4</th>\n",
       "      <td>iron man 2</td>\n",
       "      <td>Par.</td>\n",
       "      <td>312400000.0</td>\n",
       "      <td>311500000.0</td>\n",
       "      <td>2010</td>\n",
       "      <td>15</td>\n",
       "      <td>May 7, 2010</td>\n",
       "      <td>iron man 2</td>\n",
       "      <td>170000000.0</td>\n",
       "      <td>312433331.0</td>\n",
       "      <td>6.211564e+08</td>\n",
       "    </tr>\n",
       "  </tbody>\n",
       "</table>\n",
       "</div>"
      ],
      "text/plain": [
       "                       title studio  domestic_gross_x  foreign_gross  year  \\\n",
       "0                toy story 3     BV       415000000.0    652000000.0  2010   \n",
       "1                  inception     WB       292600000.0    535700000.0  2010   \n",
       "2        shrek forever after   P/DW       238700000.0    513900000.0  2010   \n",
       "3  the twilight saga eclipse   Sum.       300500000.0    398000000.0  2010   \n",
       "4                 iron man 2   Par.       312400000.0    311500000.0  2010   \n",
       "\n",
       "   id  release_date                      movie  production_budget  \\\n",
       "0  47  Jun 18, 2010                toy story 3        200000000.0   \n",
       "1  38  Jul 16, 2010                  inception        160000000.0   \n",
       "2  27  May 21, 2010        shrek forever after        165000000.0   \n",
       "3  53  Jun 30, 2010  the twilight saga eclipse         68000000.0   \n",
       "4  15   May 7, 2010                 iron man 2        170000000.0   \n",
       "\n",
       "   domestic_gross_y  worldwide_gross  \n",
       "0       415004880.0     1.068880e+09  \n",
       "1       292576195.0     8.355246e+08  \n",
       "2       238736787.0     7.562447e+08  \n",
       "3       300531751.0     7.061028e+08  \n",
       "4       312433331.0     6.211564e+08  "
      ]
     },
     "execution_count": 72,
     "metadata": {},
     "output_type": "execute_result"
    }
   ],
   "source": [
    "import re\n",
    "# Clean and standardize movie titles\n",
    "def clean_title(title):\n",
    "    title = re.sub(r'[^\\w\\s]', '', title)\n",
    "    title = title.lower().strip()\n",
    "    title = re.sub(r'\\s+', ' ', title)\n",
    "    return title\n",
    "\n",
    "df_bom['title'] = df_bom['title'].apply(clean_title)\n",
    "df_tn['movie'] = df_tn['movie'].apply(clean_title)\n",
    "\n",
    "# Convert numeric fields to proper format\n",
    "df_bom['domestic_gross'] = df_bom['domestic_gross'].replace('[\\$,]', '', regex=True).astype(float)\n",
    "df_bom['foreign_gross'] = df_bom['foreign_gross'].replace('[\\$,]', '', regex=True).astype(float)\n",
    "df_tn['production_budget'] = df_tn['production_budget'].replace('[\\$,]', '', regex=True).astype(float)\n",
    "df_tn['domestic_gross'] = df_tn['domestic_gross'].replace('[\\$,]', '', regex=True).astype(float)\n",
    "df_tn['worldwide_gross'] = df_tn['worldwide_gross'].replace('[\\$,]', '', regex=True).astype(float)\n",
    "\n",
    "# Merge datasets on titles\n",
    "df_merged_bomtn = pd.merge(df_bom, df_tn, left_on='title', right_on='movie', how='inner')\n",
    "df_merged_bomtn.head()"
   ]
  },
  {
   "cell_type": "markdown",
   "id": "d53f54a7-f565-4543-9685-c041bbe0e991",
   "metadata": {},
   "source": [
    "#### Dropping unnecessary columns"
   ]
  },
  {
   "cell_type": "code",
   "execution_count": 74,
   "id": "f733442d-6eaa-4e54-8f9c-eb650a90d59a",
   "metadata": {},
   "outputs": [
    {
     "data": {
      "text/html": [
       "<div>\n",
       "<style scoped>\n",
       "    .dataframe tbody tr th:only-of-type {\n",
       "        vertical-align: middle;\n",
       "    }\n",
       "\n",
       "    .dataframe tbody tr th {\n",
       "        vertical-align: top;\n",
       "    }\n",
       "\n",
       "    .dataframe thead th {\n",
       "        text-align: right;\n",
       "    }\n",
       "</style>\n",
       "<table border=\"1\" class=\"dataframe\">\n",
       "  <thead>\n",
       "    <tr style=\"text-align: right;\">\n",
       "      <th></th>\n",
       "      <th>title</th>\n",
       "      <th>studio</th>\n",
       "      <th>year</th>\n",
       "      <th>id</th>\n",
       "      <th>release_date</th>\n",
       "      <th>movie</th>\n",
       "      <th>production_budget</th>\n",
       "      <th>worldwide_gross</th>\n",
       "    </tr>\n",
       "  </thead>\n",
       "  <tbody>\n",
       "    <tr>\n",
       "      <th>0</th>\n",
       "      <td>toy story 3</td>\n",
       "      <td>BV</td>\n",
       "      <td>2010</td>\n",
       "      <td>47</td>\n",
       "      <td>Jun 18, 2010</td>\n",
       "      <td>toy story 3</td>\n",
       "      <td>200000000.0</td>\n",
       "      <td>1.068880e+09</td>\n",
       "    </tr>\n",
       "    <tr>\n",
       "      <th>1</th>\n",
       "      <td>inception</td>\n",
       "      <td>WB</td>\n",
       "      <td>2010</td>\n",
       "      <td>38</td>\n",
       "      <td>Jul 16, 2010</td>\n",
       "      <td>inception</td>\n",
       "      <td>160000000.0</td>\n",
       "      <td>8.355246e+08</td>\n",
       "    </tr>\n",
       "    <tr>\n",
       "      <th>2</th>\n",
       "      <td>shrek forever after</td>\n",
       "      <td>P/DW</td>\n",
       "      <td>2010</td>\n",
       "      <td>27</td>\n",
       "      <td>May 21, 2010</td>\n",
       "      <td>shrek forever after</td>\n",
       "      <td>165000000.0</td>\n",
       "      <td>7.562447e+08</td>\n",
       "    </tr>\n",
       "    <tr>\n",
       "      <th>3</th>\n",
       "      <td>the twilight saga eclipse</td>\n",
       "      <td>Sum.</td>\n",
       "      <td>2010</td>\n",
       "      <td>53</td>\n",
       "      <td>Jun 30, 2010</td>\n",
       "      <td>the twilight saga eclipse</td>\n",
       "      <td>68000000.0</td>\n",
       "      <td>7.061028e+08</td>\n",
       "    </tr>\n",
       "    <tr>\n",
       "      <th>4</th>\n",
       "      <td>iron man 2</td>\n",
       "      <td>Par.</td>\n",
       "      <td>2010</td>\n",
       "      <td>15</td>\n",
       "      <td>May 7, 2010</td>\n",
       "      <td>iron man 2</td>\n",
       "      <td>170000000.0</td>\n",
       "      <td>6.211564e+08</td>\n",
       "    </tr>\n",
       "    <tr>\n",
       "      <th>...</th>\n",
       "      <td>...</td>\n",
       "      <td>...</td>\n",
       "      <td>...</td>\n",
       "      <td>...</td>\n",
       "      <td>...</td>\n",
       "      <td>...</td>\n",
       "      <td>...</td>\n",
       "      <td>...</td>\n",
       "    </tr>\n",
       "    <tr>\n",
       "      <th>1302</th>\n",
       "      <td>ben is back</td>\n",
       "      <td>RAtt.</td>\n",
       "      <td>2018</td>\n",
       "      <td>95</td>\n",
       "      <td>Dec 7, 2018</td>\n",
       "      <td>ben is back</td>\n",
       "      <td>13000000.0</td>\n",
       "      <td>9.633111e+06</td>\n",
       "    </tr>\n",
       "    <tr>\n",
       "      <th>1303</th>\n",
       "      <td>bilal a new breed of hero</td>\n",
       "      <td>VE</td>\n",
       "      <td>2018</td>\n",
       "      <td>100</td>\n",
       "      <td>Feb 2, 2018</td>\n",
       "      <td>bilal a new breed of hero</td>\n",
       "      <td>30000000.0</td>\n",
       "      <td>6.485990e+05</td>\n",
       "    </tr>\n",
       "    <tr>\n",
       "      <th>1304</th>\n",
       "      <td>mandy</td>\n",
       "      <td>RLJ</td>\n",
       "      <td>2018</td>\n",
       "      <td>71</td>\n",
       "      <td>Sep 14, 2018</td>\n",
       "      <td>mandy</td>\n",
       "      <td>6000000.0</td>\n",
       "      <td>1.427656e+06</td>\n",
       "    </tr>\n",
       "    <tr>\n",
       "      <th>1305</th>\n",
       "      <td>lean on pete</td>\n",
       "      <td>A24</td>\n",
       "      <td>2018</td>\n",
       "      <td>13</td>\n",
       "      <td>Apr 6, 2018</td>\n",
       "      <td>lean on pete</td>\n",
       "      <td>8000000.0</td>\n",
       "      <td>2.455027e+06</td>\n",
       "    </tr>\n",
       "    <tr>\n",
       "      <th>1306</th>\n",
       "      <td>borg vs mcenroe</td>\n",
       "      <td>Neon</td>\n",
       "      <td>2018</td>\n",
       "      <td>70</td>\n",
       "      <td>Apr 13, 2018</td>\n",
       "      <td>borg vs mcenroe</td>\n",
       "      <td>7500000.0</td>\n",
       "      <td>3.257922e+06</td>\n",
       "    </tr>\n",
       "  </tbody>\n",
       "</table>\n",
       "<p>1307 rows × 8 columns</p>\n",
       "</div>"
      ],
      "text/plain": [
       "                          title studio  year   id  release_date  \\\n",
       "0                   toy story 3     BV  2010   47  Jun 18, 2010   \n",
       "1                     inception     WB  2010   38  Jul 16, 2010   \n",
       "2           shrek forever after   P/DW  2010   27  May 21, 2010   \n",
       "3     the twilight saga eclipse   Sum.  2010   53  Jun 30, 2010   \n",
       "4                    iron man 2   Par.  2010   15   May 7, 2010   \n",
       "...                         ...    ...   ...  ...           ...   \n",
       "1302                ben is back  RAtt.  2018   95   Dec 7, 2018   \n",
       "1303  bilal a new breed of hero     VE  2018  100   Feb 2, 2018   \n",
       "1304                      mandy    RLJ  2018   71  Sep 14, 2018   \n",
       "1305               lean on pete    A24  2018   13   Apr 6, 2018   \n",
       "1306            borg vs mcenroe   Neon  2018   70  Apr 13, 2018   \n",
       "\n",
       "                          movie  production_budget  worldwide_gross  \n",
       "0                   toy story 3        200000000.0     1.068880e+09  \n",
       "1                     inception        160000000.0     8.355246e+08  \n",
       "2           shrek forever after        165000000.0     7.562447e+08  \n",
       "3     the twilight saga eclipse         68000000.0     7.061028e+08  \n",
       "4                    iron man 2        170000000.0     6.211564e+08  \n",
       "...                         ...                ...              ...  \n",
       "1302                ben is back         13000000.0     9.633111e+06  \n",
       "1303  bilal a new breed of hero         30000000.0     6.485990e+05  \n",
       "1304                      mandy          6000000.0     1.427656e+06  \n",
       "1305               lean on pete          8000000.0     2.455027e+06  \n",
       "1306            borg vs mcenroe          7500000.0     3.257922e+06  \n",
       "\n",
       "[1307 rows x 8 columns]"
      ]
     },
     "execution_count": 74,
     "metadata": {},
     "output_type": "execute_result"
    }
   ],
   "source": [
    "columns_to_drop = ['domestic_gross_x', 'foreign_gross', 'domestic_gross_y']\n",
    "\n",
    "df_cleaned_bmtn = df_merged_bomtn.drop(columns=columns_to_drop)\n",
    "df_cleaned_bmtn"
   ]
  },
  {
   "cell_type": "markdown",
   "id": "3691e928-09c5-44a9-9d54-ed0330c46fc1",
   "metadata": {},
   "source": [
    "##### Checking for with missing values"
   ]
  },
  {
   "cell_type": "code",
   "execution_count": 76,
   "id": "67433784-b179-4b24-ba14-d48be9c926e9",
   "metadata": {},
   "outputs": [
    {
     "data": {
      "text/plain": [
       "title                0\n",
       "studio               1\n",
       "year                 0\n",
       "id                   0\n",
       "release_date         0\n",
       "movie                0\n",
       "production_budget    0\n",
       "worldwide_gross      0\n",
       "dtype: int64"
      ]
     },
     "execution_count": 76,
     "metadata": {},
     "output_type": "execute_result"
    }
   ],
   "source": [
    "# Checking for rows with missing values \n",
    "missing_values_bmtn = df_cleaned_bmtn.isnull().sum()\n",
    "missing_values_bmtn"
   ]
  },
  {
   "cell_type": "markdown",
   "id": "5f314387-c949-43c0-a188-bead2f34b50d",
   "metadata": {},
   "source": [
    "##### Dropping Rows with Missing values"
   ]
  },
  {
   "cell_type": "code",
   "execution_count": 78,
   "id": "6046b84a-9bb0-44ba-bebf-e0808de3c823",
   "metadata": {},
   "outputs": [
    {
     "name": "stdout",
     "output_type": "stream",
     "text": [
      "<class 'pandas.core.frame.DataFrame'>\n",
      "Index: 1306 entries, 0 to 1306\n",
      "Data columns (total 8 columns):\n",
      " #   Column             Non-Null Count  Dtype  \n",
      "---  ------             --------------  -----  \n",
      " 0   title              1306 non-null   object \n",
      " 1   studio             1306 non-null   object \n",
      " 2   year               1306 non-null   int64  \n",
      " 3   id                 1306 non-null   int64  \n",
      " 4   release_date       1306 non-null   object \n",
      " 5   movie              1306 non-null   object \n",
      " 6   production_budget  1306 non-null   float64\n",
      " 7   worldwide_gross    1306 non-null   float64\n",
      "dtypes: float64(2), int64(2), object(4)\n",
      "memory usage: 91.8+ KB\n"
     ]
    }
   ],
   "source": [
    "df_bomtn_cleaned = df_cleaned_bmtn.dropna()\n",
    "\n",
    "df_bomtn_cleaned.info()"
   ]
  },
  {
   "cell_type": "markdown",
   "id": "2256436c-4b31-4024-a685-d05284911df0",
   "metadata": {},
   "source": [
    "#### Analyzing how different studios are performing financially"
   ]
  },
  {
   "cell_type": "code",
   "execution_count": 80,
   "id": "9bedb84f-37ec-4a78-ac3b-802d7df735e5",
   "metadata": {},
   "outputs": [
    {
     "name": "stdout",
     "output_type": "stream",
     "text": [
      "     studio  total_worldwide_gross  average_worldwide_gross  number_of_movies\n",
      "15       BV           3.587512e+10             4.599375e+08                78\n",
      "91     Uni.           2.800495e+10             2.276825e+08               123\n",
      "32      Fox           2.760528e+10             2.400459e+08               115\n",
      "95       WB           2.441023e+10             2.219112e+08               110\n",
      "83     Sony           1.767599e+10             2.325789e+08                76\n",
      "69     Par.           1.464334e+10             1.901733e+08                77\n",
      "96  WB (NL)           8.791297e+09             2.254179e+08                39\n",
      "48      LGF           7.081172e+09             1.106433e+08                64\n",
      "64     P/DW           5.078028e+09             5.078028e+08                10\n",
      "47     LG/S           4.787157e+09             1.450654e+08                33\n"
     ]
    }
   ],
   "source": [
    "# Aggregate the data by studio\n",
    "studio_performance = df_bomtn_cleaned.groupby('studio')['worldwide_gross'].agg(['sum', 'mean', 'count']).reset_index()\n",
    "studio_performance.columns = ['studio', 'total_worldwide_gross', 'average_worldwide_gross', 'number_of_movies']\n",
    "\n",
    "# Sort the studios by total worldwide gross in descending order\n",
    "studio_performance = studio_performance.sort_values(by='total_worldwide_gross', ascending=False)\n",
    "\n",
    "top_10_studios = studio_performance.head(10)\n",
    "\n",
    "print(top_10_studios)"
   ]
  },
  {
   "cell_type": "markdown",
   "id": "7998d6c0-f269-42f8-a164-5d14c7632682",
   "metadata": {},
   "source": [
    "####  Visualizing the data"
   ]
  },
  {
   "cell_type": "code",
   "execution_count": 82,
   "id": "8f4ab6b7-fa2f-41a9-9085-c7f314c3cdd1",
   "metadata": {},
   "outputs": [
    {
     "data": {
      "image/png": "[encoded data removed]",
      "text/plain": [
       "<Figure size 1200x800 with 1 Axes>"
      ]
     },
     "metadata": {},
     "output_type": "display_data"
    }
   ],
   "source": [
    "# Plot the total worldwide gross for each studio\n",
    "plt.figure(figsize=(12, 8))\n",
    "plt.bar(top_10_studios['studio'], top_10_studios['total_worldwide_gross'], color='skyblue')\n",
    "plt.xlabel('Studios')\n",
    "plt.ylabel('Total Worldwide Gross ($)')\n",
    "plt.title('Total Worldwide Gross by Studio')\n",
    "plt.xticks(rotation=45, ha='right')\n",
    "plt.tight_layout()\n",
    "\n",
    "# Show the plot\n",
    "plt.show()"
   ]
  },
  {
   "cell_type": "markdown",
   "id": "022981d9-3b9a-4efc-86ec-77ee8167eb1d",
   "metadata": {},
   "source": [
    "#### Comment"
   ]
  },
  {
   "cell_type": "markdown",
   "id": "8bfb471e-bbea-4e6a-8312-fadcc62a0cc9",
   "metadata": {},
   "source": [
    "From the Observation the Studio (BV) has the highest worldwide Gross Revenue, followed by Uni, Fox and Sony."
   ]
  },
  {
   "cell_type": "markdown",
   "id": "34b62cf9-faea-4846-bc2b-d276aae61f8e",
   "metadata": {},
   "source": [
    "####  Top 10 Highest-Grossing Movies Worldwide by Studio\n"
   ]
  },
  {
   "cell_type": "code",
   "execution_count": 86,
   "id": "d181b3c6-cae9-492a-959e-4d9036f8b94f",
   "metadata": {},
   "outputs": [
    {
     "name": "stdout",
     "output_type": "stream",
     "text": [
      "                              title studio  worldwide_gross\n",
      "1209          avengers infinity war     BV     2.048134e+09\n",
      "805                  jurassic world   Uni.     1.648855e+09\n",
      "806                       furious 7   Uni.     1.518723e+09\n",
      "807          avengers age of ultron     BV     1.403014e+09\n",
      "1210                  black panther     BV     1.348258e+09\n",
      "1211  jurassic world fallen kingdom   Uni.     1.305773e+09\n",
      "522                          frozen     BV     1.272470e+09\n",
      "1212                  incredibles 2     BV     1.242521e+09\n",
      "1098        the fate of the furious   Uni.     1.234846e+09\n",
      "523                      iron man 3     BV     1.215392e+09\n"
     ]
    }
   ],
   "source": [
    "top_10_worldwide = df_bomtn_cleaned.nlargest(10, 'worldwide_gross')\n",
    "print(top_10_worldwide[['title', 'studio', 'worldwide_gross']])"
   ]
  },
  {
   "cell_type": "markdown",
   "id": "9bdf0a53-eb29-4e11-a0a6-afae903869ed",
   "metadata": {},
   "source": [
    "#### Dropping movies with zero values for Worldwide Gross"
   ]
  },
  {
   "cell_type": "code",
   "execution_count": 88,
   "id": "6c5fdaac-e18a-4dc7-ab41-2a74734d5578",
   "metadata": {},
   "outputs": [
    {
     "data": {
      "text/html": [
       "<div>\n",
       "<style scoped>\n",
       "    .dataframe tbody tr th:only-of-type {\n",
       "        vertical-align: middle;\n",
       "    }\n",
       "\n",
       "    .dataframe tbody tr th {\n",
       "        vertical-align: top;\n",
       "    }\n",
       "\n",
       "    .dataframe thead th {\n",
       "        text-align: right;\n",
       "    }\n",
       "</style>\n",
       "<table border=\"1\" class=\"dataframe\">\n",
       "  <thead>\n",
       "    <tr style=\"text-align: right;\">\n",
       "      <th></th>\n",
       "      <th>title</th>\n",
       "      <th>studio</th>\n",
       "      <th>year</th>\n",
       "      <th>id</th>\n",
       "      <th>release_date</th>\n",
       "      <th>movie</th>\n",
       "      <th>production_budget</th>\n",
       "      <th>worldwide_gross</th>\n",
       "    </tr>\n",
       "  </thead>\n",
       "  <tbody>\n",
       "    <tr>\n",
       "      <th>1209</th>\n",
       "      <td>avengers infinity war</td>\n",
       "      <td>BV</td>\n",
       "      <td>2018</td>\n",
       "      <td>7</td>\n",
       "      <td>Apr 27, 2018</td>\n",
       "      <td>avengers infinity war</td>\n",
       "      <td>300000000.0</td>\n",
       "      <td>2.048134e+09</td>\n",
       "    </tr>\n",
       "    <tr>\n",
       "      <th>805</th>\n",
       "      <td>jurassic world</td>\n",
       "      <td>Uni.</td>\n",
       "      <td>2015</td>\n",
       "      <td>34</td>\n",
       "      <td>Jun 12, 2015</td>\n",
       "      <td>jurassic world</td>\n",
       "      <td>215000000.0</td>\n",
       "      <td>1.648855e+09</td>\n",
       "    </tr>\n",
       "    <tr>\n",
       "      <th>806</th>\n",
       "      <td>furious 7</td>\n",
       "      <td>Uni.</td>\n",
       "      <td>2015</td>\n",
       "      <td>67</td>\n",
       "      <td>Apr 3, 2015</td>\n",
       "      <td>furious 7</td>\n",
       "      <td>190000000.0</td>\n",
       "      <td>1.518723e+09</td>\n",
       "    </tr>\n",
       "  </tbody>\n",
       "</table>\n",
       "</div>"
      ],
      "text/plain": [
       "                      title studio  year  id  release_date  \\\n",
       "1209  avengers infinity war     BV  2018   7  Apr 27, 2018   \n",
       "805          jurassic world   Uni.  2015  34  Jun 12, 2015   \n",
       "806               furious 7   Uni.  2015  67   Apr 3, 2015   \n",
       "\n",
       "                      movie  production_budget  worldwide_gross  \n",
       "1209  avengers infinity war        300000000.0     2.048134e+09  \n",
       "805          jurassic world        215000000.0     1.648855e+09  \n",
       "806               furious 7        190000000.0     1.518723e+09  "
      ]
     },
     "execution_count": 88,
     "metadata": {},
     "output_type": "execute_result"
    }
   ],
   "source": [
    "top_10_worldwide_0 = top_10_worldwide[top_10_worldwide['worldwide_gross'] != 0]\n",
    "top_10_worldwide_0.head(3)"
   ]
  },
  {
   "cell_type": "markdown",
   "id": "59535df8-70f8-4c04-9377-5a196cb59f60",
   "metadata": {},
   "source": [
    "##### Plotting a grapgh of Top 10 Highest-Grossing Movies Worldwide by Studio"
   ]
  },
  {
   "cell_type": "code",
   "execution_count": 90,
   "id": "1d39f6e2-c0e9-41e2-9b17-3b0ec84f4c0c",
   "metadata": {},
   "outputs": [
    {
     "data": {
      "image/png": "[encoded data removed]",
      "text/plain": [
       "<Figure size 1400x800 with 1 Axes>"
      ]
     },
     "metadata": {},
     "output_type": "display_data"
    }
   ],
   "source": [
    "# Extract relevant columns for the chart\n",
    "top_10_data = top_10_worldwide_0[['title', 'studio', 'worldwide_gross']]\n",
    "\n",
    "# Create the bar chart\n",
    "plt.figure(figsize=(14, 8))\n",
    "bars = plt.bar(top_10_data['title'], top_10_data['worldwide_gross'], color='skyblue')\n",
    "\n",
    "# Add labels for the studios\n",
    "for bar, studio in zip(bars, top_10_data['studio']):\n",
    "    yval = bar.get_height()\n",
    "    plt.text(bar.get_x() + bar.get_width()/2, yval, studio, ha='center', va='bottom', fontsize=10)\n",
    "\n",
    "plt.xlabel('Movie Title')\n",
    "plt.ylabel('Worldwide Gross Revenue (in billions)')\n",
    "plt.title('Top 10 Highest-Grossing Movies Worldwide by Studio')\n",
    "plt.xticks(rotation=45, ha='right')\n",
    "plt.tight_layout()\n",
    "\n",
    "# Show the plot\n",
    "plt.show()"
   ]
  },
  {
   "cell_type": "markdown",
   "id": "c94ca3b7-89bb-4254-87d4-f67b958aa74a",
   "metadata": {},
   "source": [
    "#### Comment"
   ]
  },
  {
   "cell_type": "markdown",
   "id": "4191f17d-70d2-4380-8234-8886309e87b0",
   "metadata": {},
   "source": [
    "From the observation above , The Movie Titles with the Highest Worldwide Gross are 'Avengers infinity war' from BV studio, \n",
    "'jurassic world' from Uni studio, 'furious' from Uni studio and 'avengers agge of ultron' from Bv studio. \n",
    "\n",
    "These clearly indicates that the two studios are doing well generally interm of movies production"
   ]
  },
  {
   "cell_type": "markdown",
   "id": "8685fcfe-afd4-4acc-b3aa-9d95de3b23ac",
   "metadata": {},
   "source": [
    "#####  Calculating Return on Investment (ROI) for Each Movie"
   ]
  },
  {
   "cell_type": "code",
   "execution_count": 94,
   "id": "0bd68a25-ffea-43b3-9624-886707e93043",
   "metadata": {},
   "outputs": [
    {
     "data": {
      "text/html": [
       "<div>\n",
       "<style scoped>\n",
       "    .dataframe tbody tr th:only-of-type {\n",
       "        vertical-align: middle;\n",
       "    }\n",
       "\n",
       "    .dataframe tbody tr th {\n",
       "        vertical-align: top;\n",
       "    }\n",
       "\n",
       "    .dataframe thead th {\n",
       "        text-align: right;\n",
       "    }\n",
       "</style>\n",
       "<table border=\"1\" class=\"dataframe\">\n",
       "  <thead>\n",
       "    <tr style=\"text-align: right;\">\n",
       "      <th></th>\n",
       "      <th>title</th>\n",
       "      <th>studio</th>\n",
       "      <th>production_budget</th>\n",
       "      <th>worldwide_gross</th>\n",
       "      <th>ROI</th>\n",
       "    </tr>\n",
       "  </thead>\n",
       "  <tbody>\n",
       "    <tr>\n",
       "      <th>522</th>\n",
       "      <td>frozen</td>\n",
       "      <td>BV</td>\n",
       "      <td>150000000.0</td>\n",
       "      <td>1.272470e+09</td>\n",
       "      <td>7.483133</td>\n",
       "    </tr>\n",
       "    <tr>\n",
       "      <th>806</th>\n",
       "      <td>furious 7</td>\n",
       "      <td>Uni.</td>\n",
       "      <td>190000000.0</td>\n",
       "      <td>1.518723e+09</td>\n",
       "      <td>6.993278</td>\n",
       "    </tr>\n",
       "    <tr>\n",
       "      <th>1211</th>\n",
       "      <td>jurassic world fallen kingdom</td>\n",
       "      <td>Uni.</td>\n",
       "      <td>170000000.0</td>\n",
       "      <td>1.305773e+09</td>\n",
       "      <td>6.681016</td>\n",
       "    </tr>\n",
       "    <tr>\n",
       "      <th>805</th>\n",
       "      <td>jurassic world</td>\n",
       "      <td>Uni.</td>\n",
       "      <td>215000000.0</td>\n",
       "      <td>1.648855e+09</td>\n",
       "      <td>6.669092</td>\n",
       "    </tr>\n",
       "    <tr>\n",
       "      <th>1209</th>\n",
       "      <td>avengers infinity war</td>\n",
       "      <td>BV</td>\n",
       "      <td>300000000.0</td>\n",
       "      <td>2.048134e+09</td>\n",
       "      <td>5.827114</td>\n",
       "    </tr>\n",
       "  </tbody>\n",
       "</table>\n",
       "</div>"
      ],
      "text/plain": [
       "                              title studio  production_budget  \\\n",
       "522                          frozen     BV        150000000.0   \n",
       "806                       furious 7   Uni.        190000000.0   \n",
       "1211  jurassic world fallen kingdom   Uni.        170000000.0   \n",
       "805                  jurassic world   Uni.        215000000.0   \n",
       "1209          avengers infinity war     BV        300000000.0   \n",
       "\n",
       "      worldwide_gross       ROI  \n",
       "522      1.272470e+09  7.483133  \n",
       "806      1.518723e+09  6.993278  \n",
       "1211     1.305773e+09  6.681016  \n",
       "805      1.648855e+09  6.669092  \n",
       "1209     2.048134e+09  5.827114  "
      ]
     },
     "execution_count": 94,
     "metadata": {},
     "output_type": "execute_result"
    }
   ],
   "source": [
    "top_10_worldwide_0['ROI'] = (top_10_worldwide_0['worldwide_gross'] - top_10_worldwide_0['production_budget']) / top_10_worldwide_0['production_budget']\n",
    "top_10_roi = top_10_worldwide_0.nlargest(10, 'ROI').head()\n",
    "\n",
    "top_10_roi[['title', 'studio', 'production_budget', 'worldwide_gross', 'ROI']]"
   ]
  },
  {
   "cell_type": "markdown",
   "id": "040606c9-10e1-4ff2-882f-c2b625b997e1",
   "metadata": {},
   "source": [
    "#### A plot to Calculate Return on Investment (ROI) for Each Movie"
   ]
  },
  {
   "cell_type": "code",
   "execution_count": 236,
   "id": "ea053fd9-1cab-4ac2-a690-caac8885abc0",
   "metadata": {},
   "outputs": [
    {
     "data": {
      "image/png": "[encoded data removed]",
      "text/plain": [
       "<Figure size 1500x900 with 1 Axes>"
      ]
     },
     "metadata": {},
     "output_type": "display_data"
    }
   ],
   "source": [
    "# Extract relevant columns for the chart\n",
    "top_10_roi_data = top_10_roi[['title', 'studio', 'production_budget', 'worldwide_gross', 'ROI']]\n",
    "\n",
    "# Create the bar chart\n",
    "plt.figure(figsize=(15, 9))\n",
    "bars = plt.bar(top_10_roi_data['title'], top_10_roi_data['ROI'], color='skyblue')\n",
    "\n",
    "# Add labels for the studios and ROI values\n",
    "for bar, roi, studio in zip(bars, top_10_roi_data['ROI'], top_10_roi_data['studio']):\n",
    "    yval = bar.get_height()\n",
    "    plt.text(bar.get_x() + bar.get_width()/2, yval, f'{studio}\\n{roi:.2f}', ha='center', va='bottom', fontsize=10)\n",
    "\n",
    "plt.xlabel('Movie Title')\n",
    "plt.ylabel('Return on Investment (ROI)')\n",
    "plt.title('Top 10 Movies with the Highest ROI by Studio')\n",
    "plt.xticks(rotation=45, ha='right')\n",
    "plt.tight_layout()\n",
    "\n",
    "# Show the plot\n",
    "plt.show()"
   ]
  },
  {
   "cell_type": "markdown",
   "id": "189d5f8d-1f51-4a64-8cc9-bf8160dbb455",
   "metadata": {},
   "source": [
    "#### Comment"
   ]
  },
  {
   "cell_type": "markdown",
   "id": "a5f30581-cc13-4970-9ba0-a61a83b39729",
   "metadata": {},
   "source": [
    "###### . The movie 'frozen' of studio 'BV', generated significant profits with an ROI of 7.48, indicating that for every dollar spent on\n",
    "###### production, the movie earned $7.48 in gross revenue."
   ]
  },
  {
   "cell_type": "markdown",
   "id": "4b220067-db76-4ce1-b076-820e326ac938",
   "metadata": {},
   "source": [
    "###### . The movie 'furious 7' of studio 'Uni' was highly profitable with an ROI of 6.99, showing that for every dollar spent, the movie \n",
    "###### earned $6.99 in gross revenue."
   ]
  },
  {
   "cell_type": "markdown",
   "id": "e775e282-1f1f-45a8-a367-c04bb65865ba",
   "metadata": {},
   "source": [
    "###### .The movie 'Jurassic World fallen kingdom' of studio 'Universal'also performed well with an ROI of 6.68, indicating substantial\n",
    "###### profitability. Although it was the second highest grossing movie worldwide."
   ]
  },
  {
   "cell_type": "markdown",
   "id": "b8ca4e56-c528-425d-8d10-b33e4f55d32f",
   "metadata": {},
   "source": [
    "###### .\"Avengers: Infinity War\" of studio 'BV' had the highest worldwide gross among the listed movies but a lower ROI of 5.83, showing that despite its\n",
    "###### massive earnings, its high production cost reduced its ROI compared to others on the list. Same case with 'Avengers age of ultron'"
   ]
  },
  {
   "cell_type": "markdown",
   "id": "7472b0cd-d852-4fe5-a210-67896cd19f9e",
   "metadata": {},
   "source": [
    "####  Domestic vs. Foreign Gross Comparison"
   ]
  },
  {
   "cell_type": "code",
   "execution_count": 103,
   "id": "37bc06e9-8a9b-4ce8-bba8-504383c3a1c1",
   "metadata": {},
   "outputs": [
    {
     "data": {
      "text/html": [
       "<div>\n",
       "<style scoped>\n",
       "    .dataframe tbody tr th:only-of-type {\n",
       "        vertical-align: middle;\n",
       "    }\n",
       "\n",
       "    .dataframe tbody tr th {\n",
       "        vertical-align: top;\n",
       "    }\n",
       "\n",
       "    .dataframe thead th {\n",
       "        text-align: right;\n",
       "    }\n",
       "</style>\n",
       "<table border=\"1\" class=\"dataframe\">\n",
       "  <thead>\n",
       "    <tr style=\"text-align: right;\">\n",
       "      <th></th>\n",
       "      <th>title</th>\n",
       "      <th>domestic_percentage</th>\n",
       "      <th>foreign_percentage</th>\n",
       "    </tr>\n",
       "  </thead>\n",
       "  <tbody>\n",
       "    <tr>\n",
       "      <th>947</th>\n",
       "      <td>eden</td>\n",
       "      <td>inf</td>\n",
       "      <td>inf</td>\n",
       "    </tr>\n",
       "    <tr>\n",
       "      <th>325</th>\n",
       "      <td>point blank</td>\n",
       "      <td>inf</td>\n",
       "      <td>inf</td>\n",
       "    </tr>\n",
       "    <tr>\n",
       "      <th>630</th>\n",
       "      <td>trance</td>\n",
       "      <td>inf</td>\n",
       "      <td>inf</td>\n",
       "    </tr>\n",
       "    <tr>\n",
       "      <th>614</th>\n",
       "      <td>snitch</td>\n",
       "      <td>inf</td>\n",
       "      <td>inf</td>\n",
       "    </tr>\n",
       "    <tr>\n",
       "      <th>754</th>\n",
       "      <td>the gambler</td>\n",
       "      <td>331.129081</td>\n",
       "      <td>55.024417</td>\n",
       "    </tr>\n",
       "    <tr>\n",
       "      <th>246</th>\n",
       "      <td>unknown</td>\n",
       "      <td>18.986316</td>\n",
       "      <td>19.999714</td>\n",
       "    </tr>\n",
       "    <tr>\n",
       "      <th>1204</th>\n",
       "      <td>the square</td>\n",
       "      <td>8.510059</td>\n",
       "      <td>572.581961</td>\n",
       "    </tr>\n",
       "    <tr>\n",
       "      <th>1208</th>\n",
       "      <td>the journey</td>\n",
       "      <td>7.828283</td>\n",
       "      <td>5097.194024</td>\n",
       "    </tr>\n",
       "    <tr>\n",
       "      <th>655</th>\n",
       "      <td>believe</td>\n",
       "      <td>6.963921</td>\n",
       "      <td>113.359656</td>\n",
       "    </tr>\n",
       "    <tr>\n",
       "      <th>484</th>\n",
       "      <td>playing for keeps</td>\n",
       "      <td>6.550000</td>\n",
       "      <td>50.462221</td>\n",
       "    </tr>\n",
       "  </tbody>\n",
       "</table>\n",
       "</div>"
      ],
      "text/plain": [
       "                  title  domestic_percentage  foreign_percentage\n",
       "947                eden                  inf                 inf\n",
       "325         point blank                  inf                 inf\n",
       "630              trance                  inf                 inf\n",
       "614              snitch                  inf                 inf\n",
       "754         the gambler           331.129081           55.024417\n",
       "246             unknown            18.986316           19.999714\n",
       "1204         the square             8.510059          572.581961\n",
       "1208        the journey             7.828283         5097.194024\n",
       "655             believe             6.963921          113.359656\n",
       "484   playing for keeps             6.550000           50.462221"
      ]
     },
     "execution_count": 103,
     "metadata": {},
     "output_type": "execute_result"
    }
   ],
   "source": [
    "## Fill missing values in 'foreign_gross' with the mean value of the column\n",
    "mean_foreign_gross = df_merged_bomtn['foreign_gross'].mean()\n",
    "df_merged_bomtn['foreign_gross'].fillna(mean_foreign_gross, inplace=True)\n",
    "\n",
    "## Calculate domestic and foreign percentages of the worldwide gross\n",
    "df_merged_bomtn['domestic_percentage'] = df_merged_bomtn['domestic_gross_x'] / df_merged_bomtn['worldwide_gross']\n",
    "df_merged_bomtn['foreign_percentage'] = df_merged_bomtn['foreign_gross'] / df_merged_bomtn['worldwide_gross']\n",
    "df_merged_bomtn[['title', 'domestic_percentage', 'foreign_percentage']].head(10)\n",
    "\n",
    "sorted_by_domestic = df_merged_bomtn.sort_values(by='domestic_percentage', ascending=False)\n",
    "sorted_by_domestic[['title', 'domestic_percentage', 'foreign_percentage']].head(10)"
   ]
  },
  {
   "cell_type": "code",
   "execution_count": 104,
   "id": "abc61a3f-4659-4d1b-9f72-45c2fc9c6080",
   "metadata": {},
   "outputs": [
    {
     "data": {
      "image/png": "[encoded data removed]",
      "text/plain": [
       "<Figure size 1400x800 with 1 Axes>"
      ]
     },
     "metadata": {},
     "output_type": "display_data"
    }
   ],
   "source": [
    "# Extract the top 10 movies by worldwide gross for visualization\n",
    "top_10_worldwide = df_merged_bomtn.nlargest(10, 'worldwide_gross')\n",
    "top_10_data = top_10_worldwide[['title', 'domestic_percentage', 'foreign_percentage']]\n",
    "\n",
    "# Set up the bar chart\n",
    "plt.figure(figsize=(14, 8))\n",
    "bar_width = 0.4\n",
    "bar_positions = range(len(top_10_data))\n",
    "\n",
    "# Plot domestic and foreign percentages\n",
    "bars1 = plt.bar(bar_positions, top_10_data['domestic_percentage'], width=bar_width, label='Domestic Percentage', color='skyblue')\n",
    "bars2 = plt.bar([p + bar_width for p in bar_positions], top_10_data['foreign_percentage'], width=bar_width, label='Foreign Percentage', color='lightgreen')\n",
    "\n",
    "# Add labels and title\n",
    "plt.xlabel('Movie Title')\n",
    "plt.ylabel('Percentage of Worldwide Gross')\n",
    "plt.title('Domestic and Foreign Percentage of Worldwide Gross for Top 10 Movies')\n",
    "plt.xticks([p + bar_width / 2 for p in bar_positions], top_10_data['title'], rotation=45, ha='right')\n",
    "plt.legend()\n",
    "\n",
    "# Show the plot\n",
    "plt.tight_layout()\n",
    "plt.show()"
   ]
  },
  {
   "cell_type": "markdown",
   "id": "103d6d2a-6630-46cd-9f18-04296c0cc71d",
   "metadata": {},
   "source": [
    "##### Comment"
   ]
  },
  {
   "cell_type": "markdown",
   "id": "7fee9d49-f286-4896-b6ab-cb975152b02a",
   "metadata": {},
   "source": [
    "###### Domestic Percentage: it represents the proportion of the total worldwide gross that was earned domestically (within the movie’s home country).\n",
    "###### Foreign Percentage: it represents the proportion of the total worldwide gross that was earned in foreign markets (outside the movie’s home country)"
   ]
  },
  {
   "cell_type": "markdown",
   "id": "0edd56ce-fb1e-41c0-8cc2-27e229195591",
   "metadata": {},
   "source": [
    "### Dataset 'IMDB'"
   ]
  },
  {
   "cell_type": "markdown",
   "id": "92dabf92-263f-4d3e-af36-99a27280cb6b",
   "metadata": {},
   "source": [
    "### Merging the two tables 'Movie basics' and 'movieratings' of the dataset IMDB"
   ]
  },
  {
   "cell_type": "code",
   "execution_count": 109,
   "id": "081510a7-f00c-4705-95f3-17a5d835def5",
   "metadata": {},
   "outputs": [
    {
     "data": {
      "text/html": [
       "<div>\n",
       "<style scoped>\n",
       "    .dataframe tbody tr th:only-of-type {\n",
       "        vertical-align: middle;\n",
       "    }\n",
       "\n",
       "    .dataframe tbody tr th {\n",
       "        vertical-align: top;\n",
       "    }\n",
       "\n",
       "    .dataframe thead th {\n",
       "        text-align: right;\n",
       "    }\n",
       "</style>\n",
       "<table border=\"1\" class=\"dataframe\">\n",
       "  <thead>\n",
       "    <tr style=\"text-align: right;\">\n",
       "      <th></th>\n",
       "      <th>movie_id</th>\n",
       "      <th>primary_title</th>\n",
       "      <th>original_title</th>\n",
       "      <th>start_year</th>\n",
       "      <th>runtime_minutes</th>\n",
       "      <th>genres</th>\n",
       "      <th>averagerating</th>\n",
       "      <th>numvotes</th>\n",
       "    </tr>\n",
       "  </thead>\n",
       "  <tbody>\n",
       "    <tr>\n",
       "      <th>0</th>\n",
       "      <td>tt0063540</td>\n",
       "      <td>Sunghursh</td>\n",
       "      <td>Sunghursh</td>\n",
       "      <td>2013</td>\n",
       "      <td>175.0</td>\n",
       "      <td>Action,Crime,Drama</td>\n",
       "      <td>7.0</td>\n",
       "      <td>77</td>\n",
       "    </tr>\n",
       "    <tr>\n",
       "      <th>1</th>\n",
       "      <td>tt0066787</td>\n",
       "      <td>One Day Before the Rainy Season</td>\n",
       "      <td>Ashad Ka Ek Din</td>\n",
       "      <td>2019</td>\n",
       "      <td>114.0</td>\n",
       "      <td>Biography,Drama</td>\n",
       "      <td>7.2</td>\n",
       "      <td>43</td>\n",
       "    </tr>\n",
       "    <tr>\n",
       "      <th>2</th>\n",
       "      <td>tt0069049</td>\n",
       "      <td>The Other Side of the Wind</td>\n",
       "      <td>The Other Side of the Wind</td>\n",
       "      <td>2018</td>\n",
       "      <td>122.0</td>\n",
       "      <td>Drama</td>\n",
       "      <td>6.9</td>\n",
       "      <td>4517</td>\n",
       "    </tr>\n",
       "    <tr>\n",
       "      <th>3</th>\n",
       "      <td>tt0069204</td>\n",
       "      <td>Sabse Bada Sukh</td>\n",
       "      <td>Sabse Bada Sukh</td>\n",
       "      <td>2018</td>\n",
       "      <td>NaN</td>\n",
       "      <td>Comedy,Drama</td>\n",
       "      <td>6.1</td>\n",
       "      <td>13</td>\n",
       "    </tr>\n",
       "    <tr>\n",
       "      <th>4</th>\n",
       "      <td>tt0100275</td>\n",
       "      <td>The Wandering Soap Opera</td>\n",
       "      <td>La Telenovela Errante</td>\n",
       "      <td>2017</td>\n",
       "      <td>80.0</td>\n",
       "      <td>Comedy,Drama,Fantasy</td>\n",
       "      <td>6.5</td>\n",
       "      <td>119</td>\n",
       "    </tr>\n",
       "    <tr>\n",
       "      <th>...</th>\n",
       "      <td>...</td>\n",
       "      <td>...</td>\n",
       "      <td>...</td>\n",
       "      <td>...</td>\n",
       "      <td>...</td>\n",
       "      <td>...</td>\n",
       "      <td>...</td>\n",
       "      <td>...</td>\n",
       "    </tr>\n",
       "    <tr>\n",
       "      <th>73851</th>\n",
       "      <td>tt9913084</td>\n",
       "      <td>Diabolik sono io</td>\n",
       "      <td>Diabolik sono io</td>\n",
       "      <td>2019</td>\n",
       "      <td>75.0</td>\n",
       "      <td>Documentary</td>\n",
       "      <td>6.2</td>\n",
       "      <td>6</td>\n",
       "    </tr>\n",
       "    <tr>\n",
       "      <th>73852</th>\n",
       "      <td>tt9914286</td>\n",
       "      <td>Sokagin Çocuklari</td>\n",
       "      <td>Sokagin Çocuklari</td>\n",
       "      <td>2019</td>\n",
       "      <td>98.0</td>\n",
       "      <td>Drama,Family</td>\n",
       "      <td>8.7</td>\n",
       "      <td>136</td>\n",
       "    </tr>\n",
       "    <tr>\n",
       "      <th>73853</th>\n",
       "      <td>tt9914642</td>\n",
       "      <td>Albatross</td>\n",
       "      <td>Albatross</td>\n",
       "      <td>2017</td>\n",
       "      <td>NaN</td>\n",
       "      <td>Documentary</td>\n",
       "      <td>8.5</td>\n",
       "      <td>8</td>\n",
       "    </tr>\n",
       "    <tr>\n",
       "      <th>73854</th>\n",
       "      <td>tt9914942</td>\n",
       "      <td>La vida sense la Sara Amat</td>\n",
       "      <td>La vida sense la Sara Amat</td>\n",
       "      <td>2019</td>\n",
       "      <td>NaN</td>\n",
       "      <td>None</td>\n",
       "      <td>6.6</td>\n",
       "      <td>5</td>\n",
       "    </tr>\n",
       "    <tr>\n",
       "      <th>73855</th>\n",
       "      <td>tt9916160</td>\n",
       "      <td>Drømmeland</td>\n",
       "      <td>Drømmeland</td>\n",
       "      <td>2019</td>\n",
       "      <td>72.0</td>\n",
       "      <td>Documentary</td>\n",
       "      <td>6.5</td>\n",
       "      <td>11</td>\n",
       "    </tr>\n",
       "  </tbody>\n",
       "</table>\n",
       "<p>73856 rows × 8 columns</p>\n",
       "</div>"
      ],
      "text/plain": [
       "        movie_id                    primary_title              original_title  \\\n",
       "0      tt0063540                        Sunghursh                   Sunghursh   \n",
       "1      tt0066787  One Day Before the Rainy Season             Ashad Ka Ek Din   \n",
       "2      tt0069049       The Other Side of the Wind  The Other Side of the Wind   \n",
       "3      tt0069204                  Sabse Bada Sukh             Sabse Bada Sukh   \n",
       "4      tt0100275         The Wandering Soap Opera       La Telenovela Errante   \n",
       "...          ...                              ...                         ...   \n",
       "73851  tt9913084                 Diabolik sono io            Diabolik sono io   \n",
       "73852  tt9914286                Sokagin Çocuklari           Sokagin Çocuklari   \n",
       "73853  tt9914642                        Albatross                   Albatross   \n",
       "73854  tt9914942       La vida sense la Sara Amat  La vida sense la Sara Amat   \n",
       "73855  tt9916160                       Drømmeland                  Drømmeland   \n",
       "\n",
       "       start_year  runtime_minutes                genres  averagerating  \\\n",
       "0            2013            175.0    Action,Crime,Drama            7.0   \n",
       "1            2019            114.0       Biography,Drama            7.2   \n",
       "2            2018            122.0                 Drama            6.9   \n",
       "3            2018              NaN          Comedy,Drama            6.1   \n",
       "4            2017             80.0  Comedy,Drama,Fantasy            6.5   \n",
       "...           ...              ...                   ...            ...   \n",
       "73851        2019             75.0           Documentary            6.2   \n",
       "73852        2019             98.0          Drama,Family            8.7   \n",
       "73853        2017              NaN           Documentary            8.5   \n",
       "73854        2019              NaN                  None            6.6   \n",
       "73855        2019             72.0           Documentary            6.5   \n",
       "\n",
       "       numvotes  \n",
       "0            77  \n",
       "1            43  \n",
       "2          4517  \n",
       "3            13  \n",
       "4           119  \n",
       "...         ...  \n",
       "73851         6  \n",
       "73852       136  \n",
       "73853         8  \n",
       "73854         5  \n",
       "73855        11  \n",
       "\n",
       "[73856 rows x 8 columns]"
      ]
     },
     "execution_count": 109,
     "metadata": {},
     "output_type": "execute_result"
    }
   ],
   "source": [
    "# Write the SQL query to join the tables\n",
    "merge_query = \"\"\"\n",
    "SELECT\n",
    "    b.movie_id,\n",
    "    b.primary_title,\n",
    "    b.original_title,\n",
    "    b.start_year,\n",
    "    b.runtime_minutes,\n",
    "    b.genres,\n",
    "    r.averagerating,\n",
    "    r.numvotes\n",
    "FROM\n",
    "    movie_basics AS b\n",
    "INNER JOIN\n",
    "    movie_ratings AS r\n",
    "ON\n",
    "    b.movie_id = r.movie_id\n",
    ";\n",
    "\"\"\"\n",
    "\n",
    "# Execute the query and read the result into a DataFrame\n",
    "df_merged = pd.read_sql(merge_query, conn)\n",
    "df_merged"
   ]
  },
  {
   "cell_type": "markdown",
   "id": "47323629-9a31-42a3-b998-86a26a4e16ad",
   "metadata": {},
   "source": [
    "### Removing Unnecessary Columns & Filtering Data"
   ]
  },
  {
   "cell_type": "code",
   "execution_count": 111,
   "id": "0cee3d10-cb22-44fe-a89c-b002520b402a",
   "metadata": {},
   "outputs": [
    {
     "data": {
      "text/html": [
       "<div>\n",
       "<style scoped>\n",
       "    .dataframe tbody tr th:only-of-type {\n",
       "        vertical-align: middle;\n",
       "    }\n",
       "\n",
       "    .dataframe tbody tr th {\n",
       "        vertical-align: top;\n",
       "    }\n",
       "\n",
       "    .dataframe thead th {\n",
       "        text-align: right;\n",
       "    }\n",
       "</style>\n",
       "<table border=\"1\" class=\"dataframe\">\n",
       "  <thead>\n",
       "    <tr style=\"text-align: right;\">\n",
       "      <th></th>\n",
       "      <th>movie_id</th>\n",
       "      <th>start_year</th>\n",
       "      <th>runtime_minutes</th>\n",
       "      <th>genres</th>\n",
       "      <th>averagerating</th>\n",
       "      <th>numvotes</th>\n",
       "    </tr>\n",
       "  </thead>\n",
       "  <tbody>\n",
       "    <tr>\n",
       "      <th>0</th>\n",
       "      <td>tt0063540</td>\n",
       "      <td>2013</td>\n",
       "      <td>175.0</td>\n",
       "      <td>Action,Crime,Drama</td>\n",
       "      <td>7.0</td>\n",
       "      <td>77</td>\n",
       "    </tr>\n",
       "    <tr>\n",
       "      <th>1</th>\n",
       "      <td>tt0066787</td>\n",
       "      <td>2019</td>\n",
       "      <td>114.0</td>\n",
       "      <td>Biography,Drama</td>\n",
       "      <td>7.2</td>\n",
       "      <td>43</td>\n",
       "    </tr>\n",
       "    <tr>\n",
       "      <th>2</th>\n",
       "      <td>tt0069049</td>\n",
       "      <td>2018</td>\n",
       "      <td>122.0</td>\n",
       "      <td>Drama</td>\n",
       "      <td>6.9</td>\n",
       "      <td>4517</td>\n",
       "    </tr>\n",
       "    <tr>\n",
       "      <th>3</th>\n",
       "      <td>tt0069204</td>\n",
       "      <td>2018</td>\n",
       "      <td>NaN</td>\n",
       "      <td>Comedy,Drama</td>\n",
       "      <td>6.1</td>\n",
       "      <td>13</td>\n",
       "    </tr>\n",
       "    <tr>\n",
       "      <th>4</th>\n",
       "      <td>tt0100275</td>\n",
       "      <td>2017</td>\n",
       "      <td>80.0</td>\n",
       "      <td>Comedy,Drama,Fantasy</td>\n",
       "      <td>6.5</td>\n",
       "      <td>119</td>\n",
       "    </tr>\n",
       "  </tbody>\n",
       "</table>\n",
       "</div>"
      ],
      "text/plain": [
       "    movie_id  start_year  runtime_minutes                genres  \\\n",
       "0  tt0063540        2013            175.0    Action,Crime,Drama   \n",
       "1  tt0066787        2019            114.0       Biography,Drama   \n",
       "2  tt0069049        2018            122.0                 Drama   \n",
       "3  tt0069204        2018              NaN          Comedy,Drama   \n",
       "4  tt0100275        2017             80.0  Comedy,Drama,Fantasy   \n",
       "\n",
       "   averagerating  numvotes  \n",
       "0            7.0        77  \n",
       "1            7.2        43  \n",
       "2            6.9      4517  \n",
       "3            6.1        13  \n",
       "4            6.5       119  "
      ]
     },
     "execution_count": 111,
     "metadata": {},
     "output_type": "execute_result"
    }
   ],
   "source": [
    "# Drop the specified columns\n",
    "df_merged_cleaned = df_merged.drop(columns=['primary_title', 'original_title'])\n",
    "\n",
    "# Display the first few rows of the cleaned DataFrame\n",
    "df_merged_cleaned.head()"
   ]
  },
  {
   "cell_type": "markdown",
   "id": "e93b068f-17ff-4003-ba84-3699f77e8cc3",
   "metadata": {},
   "source": [
    "### Determing Average rating by Genre"
   ]
  },
  {
   "cell_type": "code",
   "execution_count": 113,
   "id": "08a09335-d51d-4c5f-8d12-ef13fbf460ef",
   "metadata": {},
   "outputs": [
    {
     "name": "stdout",
     "output_type": "stream",
     "text": [
      "         genres  averagerating\n",
      "21        Short       8.800000\n",
      "7   Documentary       7.332090\n",
      "11    Game-Show       7.300000\n",
      "17         News       7.271330\n",
      "4     Biography       7.162274\n",
      "14        Music       7.091972\n",
      "12      History       7.040956\n",
      "22        Sport       6.961493\n",
      "24          War       6.584291\n",
      "18   Reality-TV       6.500000\n",
      "15      Musical       6.498336\n",
      "8         Drama       6.401559\n",
      "9        Family       6.394725\n",
      "3     Animation       6.248308\n",
      "2     Adventure       6.196201\n",
      "19      Romance       6.146608\n",
      "6         Crime       6.115441\n",
      "5        Comedy       6.002689\n",
      "16      Mystery       5.920401\n",
      "10      Fantasy       5.919473\n",
      "25      Western       5.868214\n",
      "0        Action       5.810361\n",
      "23     Thriller       5.639114\n",
      "20       Sci-Fi       5.489755\n",
      "13       Horror       5.003440\n",
      "1         Adult       3.766667\n"
     ]
    }
   ],
   "source": [
    "# Split the genres into separate rows for analysis\n",
    "df_genre_split = df_merged_cleaned.assign(genres=df_merged_cleaned['genres'].str.split(',')).explode('genres')\n",
    "\n",
    "# Group by genre and calculate the average rating\n",
    "avg_rating_by_genre = df_genre_split.groupby('genres')['averagerating'].mean().reset_index()\n",
    "\n",
    "# Sort by average rating in descending order\n",
    "avg_rating_by_genre = avg_rating_by_genre.sort_values(by='averagerating', ascending=False)\n",
    "\n",
    "print(avg_rating_by_genre)"
   ]
  },
  {
   "cell_type": "code",
   "execution_count": 114,
   "id": "d7cd6e2f-c337-4cee-903e-da9a79497fef",
   "metadata": {},
   "outputs": [
    {
     "data": {
      "image/png": "[encoded data removed]",
      "text/plain": [
       "<Figure size 1400x800 with 1 Axes>"
      ]
     },
     "metadata": {},
     "output_type": "display_data"
    }
   ],
   "source": [
    "# Plotting the bar chart\n",
    "plt.figure(figsize=(14, 8))\n",
    "sns.barplot(x='averagerating', y='genres', data=avg_rating_by_genre, palette='viridis')\n",
    "plt.xlabel('Average Rating')\n",
    "plt.ylabel('Genre')\n",
    "plt.title('Average Rating by Genre')\n",
    "plt.show()"
   ]
  },
  {
   "cell_type": "markdown",
   "id": "82ea99c7-036e-4d88-974b-4c3608b582c2",
   "metadata": {},
   "source": [
    "#### Comment"
   ]
  },
  {
   "cell_type": "markdown",
   "id": "672d4a1c-bc23-48ab-9bef-e05897127da4",
   "metadata": {},
   "source": [
    "###### From the above observations, Short Movies have been rated so highly  at 8.8, indicating that short films are highly appreciatedby viewers.\n",
    "\n",
    "###### Documentaries: With an average rating of 7.33, documentaries are also well-received, suggesting that viewers value factual and informative content.\n",
    "    \n",
    "###### Game-Show, News, and Biography: These genres also have relatively high average ratings, indicating a preference forreality-based and biographical content."
   ]
  },
  {
   "cell_type": "markdown",
   "id": "ded6efe2-78c3-4780-a5c1-289d7539d7cf",
   "metadata": {},
   "source": [
    "### Average Runtime by Genre"
   ]
  },
  {
   "cell_type": "code",
   "execution_count": 118,
   "id": "25b61c3d-197a-47f0-bd30-598236049523",
   "metadata": {},
   "outputs": [
    {
     "data": {
      "image/png": "[encoded data removed]",
      "text/plain": [
       "<Figure size 1200x800 with 1 Axes>"
      ]
     },
     "metadata": {},
     "output_type": "display_data"
    }
   ],
   "source": [
    "# Split the genres into separate rows for analysis\n",
    "df_genre_split = df_merged_cleaned.assign(genres=df_merged_cleaned['genres'].str.split(',')).explode('genres')\n",
    "\n",
    "# Group by genre and calculate the average runtime\n",
    "avg_runtime_by_genre = df_genre_split.groupby('genres')['runtime_minutes'].mean().reset_index()\n",
    "\n",
    "# Plot the results\n",
    "plt.figure(figsize=(12, 8))\n",
    "plt.bar(avg_runtime_by_genre['genres'], avg_runtime_by_genre['runtime_minutes'], color='skyblue')\n",
    "plt.xlabel('Genres')\n",
    "plt.ylabel('Average Runtime (minutes)')\n",
    "plt.title('Average Runtime by Genre')\n",
    "plt.xticks(rotation=45, ha='right')\n",
    "plt.tight_layout()\n",
    "\n",
    "# Show the plot\n",
    "plt.show()"
   ]
  },
  {
   "cell_type": "markdown",
   "id": "8c041ef9-a186-4006-a046-f43db8bb49be",
   "metadata": {},
   "source": [
    "#### Comment"
   ]
  },
  {
   "cell_type": "markdown",
   "id": "31f937c2-bc27-4256-b705-20d4b1fe78d0",
   "metadata": {},
   "source": [
    "##### From the observation\n",
    "######  Longer Runtimes: Genres with higher average runtimes might include 'Game-Show', 'Action' and 'romance'.They  might have longer runtimes due to the in-depth character development and intricate plots.\n",
    "\n",
    "###### Shorter Runtimes: Genres with shorter average runtimes might be more fast-paced or less complex. For instance, \"Short films\", 'Reality Tv' and 'News'.\n",
    "\n",
    "#####  These  films might have shorter runtimes as they often rely on quicker pacing and immediate engagement."
   ]
  },
  {
   "cell_type": "markdown",
   "id": "b9925159-753a-4cb0-9d6f-04738256a129",
   "metadata": {},
   "source": [
    "### Distribution of Ratings"
   ]
  },
  {
   "cell_type": "code",
   "execution_count": 122,
   "id": "b31b068e-775f-4d31-87ad-b272001f33b6",
   "metadata": {},
   "outputs": [
    {
     "name": "stdout",
     "output_type": "stream",
     "text": [
      "6.332728552859619\n",
      "6.5\n",
      "7.0\n"
     ]
    }
   ],
   "source": [
    "# Descriptive statistics\n",
    "mean_rating = df_merged_cleaned['averagerating'].mean()\n",
    "print(mean_rating)\n",
    "median_rating = df_merged_cleaned['averagerating'].median()\n",
    "print(median_rating)\n",
    "mode_rating = df_merged_cleaned['averagerating'].mode()[0]\n",
    "print(mode_rating)"
   ]
  },
  {
   "cell_type": "code",
   "execution_count": 123,
   "id": "4ce01101-0f36-408a-8890-f84fd2a3030a",
   "metadata": {},
   "outputs": [
    {
     "name": "stderr",
     "output_type": "stream",
     "text": [
      "C:\\Users\\Lenovo\\anaconda3\\Lib\\site-packages\\seaborn\\_oldcore.py:1119: FutureWarning: use_inf_as_na option is deprecated and will be removed in a future version. Convert inf values to NaN before operating instead.\n",
      "  with pd.option_context('mode.use_inf_as_na', True):\n"
     ]
    },
    {
     "data": {
      "image/png": "[encoded data removed]",
      "text/plain": [
       "<Figure size 1000x600 with 1 Axes>"
      ]
     },
     "metadata": {},
     "output_type": "display_data"
    }
   ],
   "source": [
    "# Plot the distribution of average ratings\n",
    "plt.figure(figsize=(10, 6))\n",
    "sns.histplot(df_merged_cleaned['averagerating'], bins=20, kde=True)\n",
    "plt.xlabel('Average Rating')\n",
    "plt.ylabel('Frequency')\n",
    "plt.title('Distribution of Average Ratings')\n",
    "plt.show()"
   ]
  },
  {
   "cell_type": "markdown",
   "id": "35e3f2b4-605c-483b-add4-f7c0f3093233",
   "metadata": {},
   "source": [
    "##### Interpretation"
   ]
  },
  {
   "cell_type": "markdown",
   "id": "8b0ec396-733a-4afa-8ce7-48e813d36949",
   "metadata": {},
   "source": [
    "###### Mean Rating:The average rating is 6.3 this suggests that, on average, movies are rated fairly well.\n",
    "###### Median Rating:  The median rating is 6.5. This means that half of the movies have a rating below 6.5, and half have a rating above 6.5. It indicates a fairly symmetrical distribution of ratings.\n",
    "###### Mode Rating: If the mode is 7.0, it suggests that the most common rating given by viewers is 7.0."
   ]
  },
  {
   "cell_type": "markdown",
   "id": "076ab7e4-5558-4fe0-b56d-b76c936b91d9",
   "metadata": {},
   "source": [
    "#### Runtime Vs Rating"
   ]
  },
  {
   "cell_type": "code",
   "execution_count": 127,
   "id": "eb2e61f0-3253-42f7-b014-f977c7fc6245",
   "metadata": {},
   "outputs": [
    {
     "data": {
      "image/png": "[encoded data removed]",
      "text/plain": [
       "<Figure size 1000x600 with 1 Axes>"
      ]
     },
     "metadata": {},
     "output_type": "display_data"
    }
   ],
   "source": [
    "# Remove rows with missing values in 'runtime_minutes' or 'averagerating'\n",
    "df_clean = df_merged_cleaned.dropna(subset=['runtime_minutes', 'averagerating'])\n",
    "\n",
    "# Scatter plot of runtime vs. average rating\n",
    "plt.figure(figsize=(10, 6))\n",
    "sns.scatterplot(data=df_clean, x='runtime_minutes', y='averagerating', alpha=0.6)\n",
    "plt.xlabel('Runtime (minutes)')\n",
    "plt.ylabel('Average Rating')\n",
    "plt.title('Runtime vs. Average Rating')\n",
    "plt.show()"
   ]
  },
  {
   "cell_type": "code",
   "execution_count": 128,
   "id": "a8c30f9f-f95c-49d7-96f8-c39fc228e8a8",
   "metadata": {},
   "outputs": [
    {
     "data": {
      "text/html": [
       "<div>\n",
       "<style scoped>\n",
       "    .dataframe tbody tr th:only-of-type {\n",
       "        vertical-align: middle;\n",
       "    }\n",
       "\n",
       "    .dataframe tbody tr th {\n",
       "        vertical-align: top;\n",
       "    }\n",
       "\n",
       "    .dataframe thead th {\n",
       "        text-align: right;\n",
       "    }\n",
       "</style>\n",
       "<table border=\"1\" class=\"dataframe\">\n",
       "  <thead>\n",
       "    <tr style=\"text-align: right;\">\n",
       "      <th></th>\n",
       "      <th>runtime_minutes</th>\n",
       "      <th>averagerating</th>\n",
       "    </tr>\n",
       "  </thead>\n",
       "  <tbody>\n",
       "    <tr>\n",
       "      <th>runtime_minutes</th>\n",
       "      <td>1.000000</td>\n",
       "      <td>-0.006963</td>\n",
       "    </tr>\n",
       "    <tr>\n",
       "      <th>averagerating</th>\n",
       "      <td>-0.006963</td>\n",
       "      <td>1.000000</td>\n",
       "    </tr>\n",
       "  </tbody>\n",
       "</table>\n",
       "</div>"
      ],
      "text/plain": [
       "                 runtime_minutes  averagerating\n",
       "runtime_minutes         1.000000      -0.006963\n",
       "averagerating          -0.006963       1.000000"
      ]
     },
     "execution_count": 128,
     "metadata": {},
     "output_type": "execute_result"
    }
   ],
   "source": [
    "# Correlation\n",
    "correlation = df_clean[['runtime_minutes', 'averagerating']].corr()\n",
    "correlation"
   ]
  },
  {
   "cell_type": "markdown",
   "id": "df10052c-2915-4b8e-a3b7-f8c7cfadf115",
   "metadata": {},
   "source": [
    "#### Comment"
   ]
  },
  {
   "cell_type": "markdown",
   "id": "c3e84fc7-fe43-404e-9278-ab929adad754",
   "metadata": {},
   "source": [
    "###### The correlation coefficient between runtime_minutes and averagerating is -0.006963, which is very close to 0.This suggests that there is virtually no linear relationship between the runtime of a movie and its average rating.\n",
    "###### Since the correlation is very close to zero, we can conclude that, based on this data, the length of a movie (runtime) does not have a significant impact on how it is rated on average."
   ]
  },
  {
   "cell_type": "markdown",
   "id": "5189aaab-651b-4c75-b89b-5a1318eddd44",
   "metadata": {},
   "source": [
    "### The MovieDB (TMDB) Join with The Numbers (TN)"
   ]
  },
  {
   "cell_type": "markdown",
   "id": "8f18a7d2-0465-461a-9e4b-0522c4a033c5",
   "metadata": {},
   "source": [
    "##### Clean the Datasets\n",
    "\n",
    "Standardize the title columns to ensure a successful join (e.g., convert to lowercase, strip whitespace"
   ]
  },
  {
   "cell_type": "code",
   "execution_count": 133,
   "id": "3edd28ed-93e9-41fa-9c34-3039a0a3d046",
   "metadata": {},
   "outputs": [
    {
     "data": {
      "text/html": [
       "<div>\n",
       "<style scoped>\n",
       "    .dataframe tbody tr th:only-of-type {\n",
       "        vertical-align: middle;\n",
       "    }\n",
       "\n",
       "    .dataframe tbody tr th {\n",
       "        vertical-align: top;\n",
       "    }\n",
       "\n",
       "    .dataframe thead th {\n",
       "        text-align: right;\n",
       "    }\n",
       "</style>\n",
       "<table border=\"1\" class=\"dataframe\">\n",
       "  <thead>\n",
       "    <tr style=\"text-align: right;\">\n",
       "      <th></th>\n",
       "      <th>Unnamed: 0</th>\n",
       "      <th>genre_ids</th>\n",
       "      <th>id</th>\n",
       "      <th>original_language</th>\n",
       "      <th>original_title</th>\n",
       "      <th>popularity</th>\n",
       "      <th>release_date_x</th>\n",
       "      <th>title</th>\n",
       "      <th>vote_average</th>\n",
       "      <th>vote_count</th>\n",
       "      <th>release_date_y</th>\n",
       "      <th>movie</th>\n",
       "      <th>production_budget</th>\n",
       "      <th>domestic_gross</th>\n",
       "      <th>worldwide_gross</th>\n",
       "    </tr>\n",
       "  </thead>\n",
       "  <tbody>\n",
       "    <tr>\n",
       "      <th>0</th>\n",
       "      <td>32</td>\n",
       "      <td>[28, 53, 878, 12]</td>\n",
       "      <td>95</td>\n",
       "      <td>en</td>\n",
       "      <td>Armageddon</td>\n",
       "      <td>15.799</td>\n",
       "      <td>1998-07-01</td>\n",
       "      <td>Armageddon</td>\n",
       "      <td>6.7</td>\n",
       "      <td>4267</td>\n",
       "      <td>Jun 6, 2014</td>\n",
       "      <td>edge of tomorrow</td>\n",
       "      <td>178000000.0</td>\n",
       "      <td>100206256.0</td>\n",
       "      <td>370541256.0</td>\n",
       "    </tr>\n",
       "    <tr>\n",
       "      <th>1</th>\n",
       "      <td>32</td>\n",
       "      <td>[28, 53, 878, 12]</td>\n",
       "      <td>95</td>\n",
       "      <td>en</td>\n",
       "      <td>Armageddon</td>\n",
       "      <td>15.799</td>\n",
       "      <td>1998-07-01</td>\n",
       "      <td>Armageddon</td>\n",
       "      <td>6.7</td>\n",
       "      <td>4267</td>\n",
       "      <td>Dec 31, 2020</td>\n",
       "      <td>moonfall</td>\n",
       "      <td>150000000.0</td>\n",
       "      <td>0.0</td>\n",
       "      <td>0.0</td>\n",
       "    </tr>\n",
       "    <tr>\n",
       "      <th>2</th>\n",
       "      <td>32</td>\n",
       "      <td>[28, 53, 878, 12]</td>\n",
       "      <td>95</td>\n",
       "      <td>en</td>\n",
       "      <td>Armageddon</td>\n",
       "      <td>15.799</td>\n",
       "      <td>1998-07-01</td>\n",
       "      <td>Armageddon</td>\n",
       "      <td>6.7</td>\n",
       "      <td>4267</td>\n",
       "      <td>Jul 19, 2002</td>\n",
       "      <td>stuart little 2</td>\n",
       "      <td>120000000.0</td>\n",
       "      <td>64956806.0</td>\n",
       "      <td>166000000.0</td>\n",
       "    </tr>\n",
       "    <tr>\n",
       "      <th>3</th>\n",
       "      <td>32</td>\n",
       "      <td>[28, 53, 878, 12]</td>\n",
       "      <td>95</td>\n",
       "      <td>en</td>\n",
       "      <td>Armageddon</td>\n",
       "      <td>15.799</td>\n",
       "      <td>1998-07-01</td>\n",
       "      <td>Armageddon</td>\n",
       "      <td>6.7</td>\n",
       "      <td>4267</td>\n",
       "      <td>Jul 23, 2004</td>\n",
       "      <td>catwoman</td>\n",
       "      <td>100000000.0</td>\n",
       "      <td>40202379.0</td>\n",
       "      <td>82145379.0</td>\n",
       "    </tr>\n",
       "    <tr>\n",
       "      <th>4</th>\n",
       "      <td>32</td>\n",
       "      <td>[28, 53, 878, 12]</td>\n",
       "      <td>95</td>\n",
       "      <td>en</td>\n",
       "      <td>Armageddon</td>\n",
       "      <td>15.799</td>\n",
       "      <td>1998-07-01</td>\n",
       "      <td>Armageddon</td>\n",
       "      <td>6.7</td>\n",
       "      <td>4267</td>\n",
       "      <td>Mar 21, 2014</td>\n",
       "      <td>divergent</td>\n",
       "      <td>85000000.0</td>\n",
       "      <td>150947895.0</td>\n",
       "      <td>276014965.0</td>\n",
       "    </tr>\n",
       "  </tbody>\n",
       "</table>\n",
       "</div>"
      ],
      "text/plain": [
       "   Unnamed: 0          genre_ids  id original_language original_title  \\\n",
       "0          32  [28, 53, 878, 12]  95                en     Armageddon   \n",
       "1          32  [28, 53, 878, 12]  95                en     Armageddon   \n",
       "2          32  [28, 53, 878, 12]  95                en     Armageddon   \n",
       "3          32  [28, 53, 878, 12]  95                en     Armageddon   \n",
       "4          32  [28, 53, 878, 12]  95                en     Armageddon   \n",
       "\n",
       "   popularity release_date_x       title  vote_average  vote_count  \\\n",
       "0      15.799     1998-07-01  Armageddon           6.7        4267   \n",
       "1      15.799     1998-07-01  Armageddon           6.7        4267   \n",
       "2      15.799     1998-07-01  Armageddon           6.7        4267   \n",
       "3      15.799     1998-07-01  Armageddon           6.7        4267   \n",
       "4      15.799     1998-07-01  Armageddon           6.7        4267   \n",
       "\n",
       "  release_date_y             movie  production_budget  domestic_gross  \\\n",
       "0    Jun 6, 2014  edge of tomorrow        178000000.0     100206256.0   \n",
       "1   Dec 31, 2020          moonfall        150000000.0             0.0   \n",
       "2   Jul 19, 2002   stuart little 2        120000000.0      64956806.0   \n",
       "3   Jul 23, 2004          catwoman        100000000.0      40202379.0   \n",
       "4   Mar 21, 2014         divergent         85000000.0     150947895.0   \n",
       "\n",
       "   worldwide_gross  \n",
       "0      370541256.0  \n",
       "1              0.0  \n",
       "2      166000000.0  \n",
       "3       82145379.0  \n",
       "4      276014965.0  "
      ]
     },
     "execution_count": 133,
     "metadata": {},
     "output_type": "execute_result"
    }
   ],
   "source": [
    "# Ensure 'id' columns are of the same type\n",
    "df_tmdb['id'] = df_tmdb['id'].astype(str)\n",
    "df_tn['id'] = df_tn['id'].astype(str)\n",
    "\n",
    "# Merge datasets on the 'id' column\n",
    "df_merged = pd.merge(df_tmdb, df_tn, on='id', how='inner')\n",
    "\n",
    "# Display the first few rows of the merged dataset\n",
    "df_merged.head()"
   ]
  },
  {
   "cell_type": "markdown",
   "id": "079dc5c9-9c45-4703-9686-d0ac2c5514ec",
   "metadata": {},
   "source": [
    "#### Dropping unnecessary columns"
   ]
  },
  {
   "cell_type": "code",
   "execution_count": 135,
   "id": "01a551f2-3e4c-4e1e-8ae4-63ed8f8d30a2",
   "metadata": {},
   "outputs": [
    {
     "data": {
      "text/plain": [
       "<bound method NDFrame.head of              genre_ids release_date_x                  title  \\\n",
       "0    [28, 53, 878, 12]     1998-07-01             Armageddon   \n",
       "1    [28, 53, 878, 12]     1998-07-01             Armageddon   \n",
       "2    [28, 53, 878, 12]     1998-07-01             Armageddon   \n",
       "3    [28, 53, 878, 12]     1998-07-01             Armageddon   \n",
       "4    [28, 53, 878, 12]     1998-07-01             Armageddon   \n",
       "..                 ...            ...                    ...   \n",
       "339    [878, 9648, 12]     1968-04-10  2001: A Space Odyssey   \n",
       "340    [878, 9648, 12]     1968-04-10  2001: A Space Odyssey   \n",
       "341    [878, 9648, 12]     1968-04-10  2001: A Space Odyssey   \n",
       "342    [878, 9648, 12]     1968-04-10  2001: A Space Odyssey   \n",
       "343    [878, 9648, 12]     1968-04-10  2001: A Space Odyssey   \n",
       "\n",
       "     production_budget  domestic_gross  worldwide_gross  \n",
       "0          178000000.0     100206256.0      370541256.0  \n",
       "1          150000000.0             0.0              0.0  \n",
       "2          120000000.0      64956806.0      166000000.0  \n",
       "3          100000000.0      40202379.0       82145379.0  \n",
       "4           85000000.0     150947895.0      276014965.0  \n",
       "..                 ...             ...              ...  \n",
       "339           800000.0       1001437.0        1001437.0  \n",
       "340           500000.0         12232.0          12232.0  \n",
       "341           300000.0             0.0              0.0  \n",
       "342           150000.0             0.0          32927.0  \n",
       "343            15000.0             0.0              0.0  \n",
       "\n",
       "[344 rows x 6 columns]>"
      ]
     },
     "execution_count": 135,
     "metadata": {},
     "output_type": "execute_result"
    }
   ],
   "source": [
    "columns_to_drop = ['Unnamed: 0', 'id', 'original_language', 'original_title', \n",
    "                   'popularity', 'vote_average', 'vote_count', 'release_date_y', 'movie']\n",
    "\n",
    "df_cleaned = df_merged.drop(columns=columns_to_drop)\n",
    "df_cleaned.head"
   ]
  },
  {
   "cell_type": "markdown",
   "id": "fe7acd0c-bebb-41db-9856-a703757d407a",
   "metadata": {},
   "source": [
    "#### Analyzing Relationship between Production Budget and Worldwide Gross Revenue"
   ]
  },
  {
   "cell_type": "code",
   "execution_count": 137,
   "id": "4bb1c5fb-6b3f-420e-98f5-a93c9e849150",
   "metadata": {},
   "outputs": [
    {
     "data": {
      "image/png": "[encoded data removed]",
      "text/plain": [
       "<Figure size 1000x600 with 1 Axes>"
      ]
     },
     "metadata": {},
     "output_type": "display_data"
    }
   ],
   "source": [
    "from sklearn.linear_model import LinearRegression\n",
    "\n",
    "# Prepare the data\n",
    "X = df_cleaned['production_budget'].values.reshape(-1, 1)  # Feature\n",
    "y = df_cleaned['worldwide_gross'].values  # Target\n",
    "\n",
    "# Perform linear regression\n",
    "reg = LinearRegression()\n",
    "reg.fit(X, y)\n",
    "\n",
    "# Predict values for the trend line\n",
    "trend_line = reg.predict(X)\n",
    "\n",
    "# Scatter plot of production budget vs. worldwide gross revenue\n",
    "plt.figure(figsize=(10, 6))\n",
    "plt.scatter(df_cleaned['production_budget'], df_cleaned['worldwide_gross'], alpha=0.5, label='Data Points')\n",
    "plt.plot(df_cleaned['production_budget'], trend_line, color='red', label='Trend Line')\n",
    "plt.xlabel('Production Budget')\n",
    "plt.ylabel('Worldwide Gross Revenue')\n",
    "plt.title('Production Budget vs. Worldwide Gross Revenue')\n",
    "plt.legend()\n",
    "plt.show()"
   ]
  },
  {
   "cell_type": "markdown",
   "id": "a9d42d87-61e5-431c-af18-a45e4f6bc5a0",
   "metadata": {},
   "source": [
    "#### Comment"
   ]
  },
  {
   "cell_type": "markdown",
   "id": "3f44022e-73d3-4a46-b6f3-adc879115965",
   "metadata": {},
   "source": [
    "###### There is a Positive but Weak to Moderate Correlation between the Production budget and Worldwide-Gross:Meaning that higher production budgets tend to result in higher worldwide gross revenue.However, the spread of points suggests variability, indicating that the relationship is not perfect.\n",
    "\n",
    "###### The scatter of points around the trend line shows that there are many exceptions. Some low-budget movies may have high grosses, and some high-budget movies may underperform."
   ]
  },
  {
   "cell_type": "markdown",
   "id": "52b92b52-299a-4d4c-81cf-c8ed567c018d",
   "metadata": {},
   "source": [
    "### Revenue Analysis by Genre"
   ]
  },
  {
   "cell_type": "code",
   "execution_count": 141,
   "id": "946c9a5d-5590-40ab-9827-219375f9ff36",
   "metadata": {},
   "outputs": [],
   "source": [
    "backwards_key = {\n",
    "'Action' : '28',\n",
    "'Adventure' : '12',\n",
    "'Animation' : '16',\n",
    "'Comedy' : '35',\n",
    "'Crime' : '80',\n",
    "'Documentary' : '99',\n",
    "'Drama' : '18',\n",
    "'Family' : '10751',\n",
    "'Fantasy' : '14',\n",
    "'History' : '36',\n",
    "'Horror' : '27',\n",
    "'Music' : '10402',\n",
    "'Mystery' : '9648',\n",
    "'Romance' : '10749',\n",
    "'Science Fiction' : '878',\n",
    "'TV Movie' : '10770',\n",
    "'Thriller' : '53',\n",
    "'War' : '10752',\n",
    "'Western' : '37'\n",
    "}\n",
    "\n",
    "genre_key = {v: k for k, v in backwards_key.items()}"
   ]
  },
  {
   "cell_type": "code",
   "execution_count": 142,
   "id": "2b6521a0-9830-4f28-a168-c9f204ab3d81",
   "metadata": {},
   "outputs": [
    {
     "data": {
      "text/html": [
       "<div>\n",
       "<style scoped>\n",
       "    .dataframe tbody tr th:only-of-type {\n",
       "        vertical-align: middle;\n",
       "    }\n",
       "\n",
       "    .dataframe tbody tr th {\n",
       "        vertical-align: top;\n",
       "    }\n",
       "\n",
       "    .dataframe thead th {\n",
       "        text-align: right;\n",
       "    }\n",
       "</style>\n",
       "<table border=\"1\" class=\"dataframe\">\n",
       "  <thead>\n",
       "    <tr style=\"text-align: right;\">\n",
       "      <th></th>\n",
       "      <th>genre_ids</th>\n",
       "      <th>worldwide_gross</th>\n",
       "    </tr>\n",
       "  </thead>\n",
       "  <tbody>\n",
       "    <tr>\n",
       "      <th>0</th>\n",
       "      <td>[18, 10402, 10749]</td>\n",
       "      <td>8.059946e+09</td>\n",
       "    </tr>\n",
       "    <tr>\n",
       "      <th>1</th>\n",
       "      <td>[28, 35, 80]</td>\n",
       "      <td>5.289434e+09</td>\n",
       "    </tr>\n",
       "    <tr>\n",
       "      <th>2</th>\n",
       "      <td>[28, 53, 878, 12]</td>\n",
       "      <td>4.174933e+09</td>\n",
       "    </tr>\n",
       "    <tr>\n",
       "      <th>3</th>\n",
       "      <td>[80, 18, 9648, 53]</td>\n",
       "      <td>5.230904e+09</td>\n",
       "    </tr>\n",
       "    <tr>\n",
       "      <th>4</th>\n",
       "      <td>[878, 28, 12]</td>\n",
       "      <td>5.520900e+09</td>\n",
       "    </tr>\n",
       "    <tr>\n",
       "      <th>5</th>\n",
       "      <td>[878, 9648, 12]</td>\n",
       "      <td>5.440972e+09</td>\n",
       "    </tr>\n",
       "  </tbody>\n",
       "</table>\n",
       "</div>"
      ],
      "text/plain": [
       "            genre_ids  worldwide_gross\n",
       "0  [18, 10402, 10749]     8.059946e+09\n",
       "1        [28, 35, 80]     5.289434e+09\n",
       "2   [28, 53, 878, 12]     4.174933e+09\n",
       "3  [80, 18, 9648, 53]     5.230904e+09\n",
       "4       [878, 28, 12]     5.520900e+09\n",
       "5     [878, 9648, 12]     5.440972e+09"
      ]
     },
     "execution_count": 142,
     "metadata": {},
     "output_type": "execute_result"
    }
   ],
   "source": [
    "# Group by genre and calculate the total worldwide gross revenue\n",
    "genre_revenue = df_cleaned.explode('genre_ids').groupby('genre_ids')['worldwide_gross'].sum().reset_index()\n",
    "genre_revenue"
   ]
  },
  {
   "cell_type": "markdown",
   "id": "7a59d1d5-e55d-4261-9c8a-cf25ced0debe",
   "metadata": {},
   "source": [
    "#### A vision plot"
   ]
  },
  {
   "cell_type": "code",
   "execution_count": 144,
   "id": "b34298b0-e359-4140-a677-2c2c38691c8d",
   "metadata": {},
   "outputs": [
    {
     "data": {
      "image/png": "[encoded data removed]",
      "text/plain": [
       "<Figure size 1200x800 with 1 Axes>"
      ]
     },
     "metadata": {},
     "output_type": "display_data"
    }
   ],
   "source": [
    "df_cleaned['worldwide_gross'] = df_cleaned['worldwide_gross'].replace('[\\$,]', '', regex=True).astype(float)\n",
    "genre_revenue = df_cleaned.explode('genre_ids').groupby('genre_ids')['worldwide_gross'].sum().reset_index()\n",
    "\n",
    "# Sort the DataFrame by 'worldwide_gross' for better visualization\n",
    "genre_revenue = genre_revenue.sort_values(by='worldwide_gross', ascending=False)\n",
    "\n",
    "# Plot the total worldwide gross for each genre\n",
    "plt.figure(figsize=(12, 8))\n",
    "plt.bar(genre_revenue['genre_ids'], genre_revenue['worldwide_gross'], color='skyblue')\n",
    "plt.xlabel('Genres')\n",
    "plt.ylabel('Total Worldwide Gross ($)')\n",
    "plt.title('Total Worldwide Gross by Genre')\n",
    "plt.xticks(rotation=45, ha='right')\n",
    "plt.tight_layout()\n",
    "\n",
    "# Show the plot\n",
    "plt.show()"
   ]
  },
  {
   "cell_type": "markdown",
   "id": "981afd6c-4188-4951-9cbb-4af9899e0b08",
   "metadata": {},
   "source": [
    "#### Comment\n",
    "\n",
    "###### Highest Revenue: \n",
    "The genre combination [18, 10402, 10749] has the highest revenue with approximately $8.06 billion. These genre IDs could represent a mix of Drama (18), Music (10402), and Romance (10749), indicating that movies blending drama, music, and romance have performed exceptionally well.\n",
    "\n",
    "###### Action-Comedy-Crime:\n",
    "The combination [28, 35, 80] has generated about $5.29 billion. These genres  represent Action (28), Comedy (35), and Crime (80), showing a strong performance for action-comedy-crime films.\n",
    "\n",
    "###### Action-Sci-Fi-Adventure: \n",
    "The combination [28, 53, 878, 12] has earned approximately $4.17 billion. This mix include Action (28), Thriller (53), Science Fiction (878), and Adventure (12), indicating a significant revenue for high-adrenaline, thrilling, and adventurous sci-fi films.\n",
    "\n",
    "###### Crime-Drama-Mystery-Thriller:\n",
    "The combination [80, 18, 9648, 53] has generated about $5.23 billion, suggesting a strong audience preference for movies that blend crime, drama, mystery (9648), and thriller genres.\n",
    "\n",
    "###### Sci-Fi-Action-Adventure: \n",
    "The genre set [878, 28, 12] has earned approximately $5.52 billion, reaffirming the popularity of science fiction, action, and adventure movies.\n",
    "\n",
    "###### Sci-Fi-Mystery-Adventure:\n",
    "The combination [878, 9648, 12] has generated around $5.44 billion, showing a strong performance for movies that mix sci-fi, mystery, and adventure elements.\n",
    "Summary:"
   ]
  },
  {
   "cell_type": "markdown",
   "id": "99204e7f-d9b8-4146-8a66-85a1483e3a61",
   "metadata": {},
   "source": [
    "### Interpret Findings"
   ]
  },
  {
   "cell_type": "markdown",
   "id": "215e4650-41ec-440b-9a5e-61f10cb7041a",
   "metadata": {},
   "source": [
    "#### 1.Studio Performance by Worldwide Gross Revenue\n",
    "\n",
    "##### Highest Grossing Studios: \n",
    "From the data, we observe that the studio BV (Buena Vista) has the highest worldwide gross revenue,followed by Universal (Uni), Fox, and Sony.\n",
    "\n",
    "The data indicates that BV and Universal are leading in movie production in terms of worldwide gross revenue, showcasing their dominance in the industry."
   ]
  },
  {
   "cell_type": "markdown",
   "id": "19f94c79-80fe-45d2-b8a9-3df4bfc49862",
   "metadata": {},
   "source": [
    "#### 2.Movie Titles with Highest Worldwide Gross\n",
    "##### Top Movies:\n",
    "The movie titles with the highest worldwide gross are 'Avengers: Infinity War' from BV studio, 'Jurassic World' from Uni studio, 'Furious 7' from Uni studio, and 'Avengers: Age of Ultron' from BV studio.\n",
    "\n",
    "These top-grossing movies suggest that BV and Uni studios are highly successful, with multiple blockbuster hits contributing to their high gross revenues.\n"
   ]
  },
  {
   "cell_type": "markdown",
   "id": "d0131380-c994-4755-ab39-ed6de9f56f24",
   "metadata": {},
   "source": [
    "#### 3.Return on Investment (ROI) Analysis\n",
    " Frozen' (BV) had a significant ROI of 7.48, indicating substantial profitability.\n",
    "'Furious 7' (Uni) had a high ROI of 6.99, showing strong financial returns. 'Jurassic World: Fallen Kingdom' (Uni) had an ROI of 6.68, demonstrating good profitability.\n",
    "\n",
    " Profitability vs. Cost: Although 'Avengers: Infinity War' had massive earnings, its high production costs reduced its ROI compared to other top-grossing movies. This illustrates that high gross revenue does not always equate to high profitability."
   ]
  },
  {
   "cell_type": "markdown",
   "id": "a104fcef-26f4-4505-b05a-7db297155efb",
   "metadata": {},
   "source": [
    "##### 4.Genre and Runtime Insights\n",
    "The high ratings for short films, documentaries, and reality-based content indicate viewer preferences for concise, informative, and realistic content.\n"
   ]
  },
  {
   "cell_type": "markdown",
   "id": "f6659144-97d4-493f-96fe-e52df0978bcc",
   "metadata": {},
   "source": [
    "#### 5.Ratings Distribution Analysis\n",
    "\n",
    " Mean Rating: The average rating of 6.3 suggests movies are rated fairly well overall.Median Rating: A median rating of 6.5 indicates a fairly symmetrical distribution of ratings.Mode Rating: The most common rating is 7.0.\n",
    "\n",
    "The distribution of ratings shows that most movies are perceived positively, with a significant number of them receiving a rating of 7.0."
   ]
  },
  {
   "cell_type": "markdown",
   "id": "b179d675-d1e9-439d-bb40-d5908208ea5e",
   "metadata": {},
   "source": [
    "#### 6.Relationship between Production Budget and Worldwide Gross\n",
    " Positive Correlation: There is a weak to moderate positive correlation between production budget and worldwide gross.\n",
    "\n",
    "##### Budget vs. Revenue:\n",
    "Higher production budgets generally result in higher worldwide gross revenue, but the variability indicates that many exceptions exist. Some low-budget movies can achieve high grosses, and some high-budget movies may underperform. This highlights the complexity of predicting movie success based on budget alone.\n"
   ]
  },
  {
   "cell_type": "markdown",
   "id": "855a5023-034c-4499-93d6-cb9b2374e540",
   "metadata": {},
   "source": [
    "#### 7.Correlation between Runtime and Average Rating\n",
    " This near-zero correlation suggests that the length of a movie does not significantly impact its average rating. Viewers do not necessarily prefer longer or shorter movies based on this data."
   ]
  },
  {
   "cell_type": "markdown",
   "id": "b813553e-59fc-413d-b885-0333e239e07b",
   "metadata": {},
   "source": [
    "### RECOMMENDATIONS:"
   ]
  },
  {
   "cell_type": "markdown",
   "id": "d21c68b4-ec2a-4638-a444-cb4e0dabcb63",
   "metadata": {},
   "source": [
    "######  Focus on High-Grossing Genres and Studios:\n",
    " Prioritize genres and movie types that have historically performed well in terms of worldwide gross revenue. According to our findings, studios like BV (Buena Vista) and Universal (Uni) have produced some of the highest-grossing movies, including 'Avengers: Infinity War,' 'Jurassic World,' and 'Furious 7.'"
   ]
  },
  {
   "cell_type": "markdown",
   "id": "cfbc5be0-35b8-47c6-867d-7c09f2d7809c",
   "metadata": {},
   "source": [
    "######  Balance Between Production Budget and ROI:\n",
    " While aiming for high worldwide gross revenue, it is also essential to manage production budgets effectively to ensure a strong return on investment (ROI).\n",
    "Set realistic budgets for productions while maintaining high-quality standards.\n",
    "\n",
    "Movies like 'Frozen' and 'Furious 7' demonstrated significant profitability with ROIs of 7.48 and 6.99, respectively. Carefully evaluate potential projects to balance production costs and expected revenue"
   ]
  },
  {
   "cell_type": "markdown",
   "id": "d7093400-43ad-4c16-90dd-0090fd17d706",
   "metadata": {},
   "source": [
    "######  Leverage Viewer Preferences in Genres and Runtimes:\n",
    "\n",
    "Cater to viewer preferences for both high-rated genres and suitable runtimes. Genres such as short films, documentaries, and biographical content have high average ratings.\n",
    "\n",
    "Diversify our film portfolio to include a mix of genre types. While blockbuster action and adventure films can drive high revenue, incorporating highly-rated genres like documentaries and short films can enhance our brand reputation and attract diverse audiences."
   ]
  },
  {
   "cell_type": "markdown",
   "id": "ff2d64a1-3618-4eca-94be-fcd85e653d8d",
   "metadata": {},
   "source": [
    "######  Target Both Domestic and International Markets:\n",
    "\n",
    "Plan for a balanced approach to earning revenue from both domestic and foreign markets. Our analysis shows that successful movies have substantial earnings from international audiences.\n",
    "\n",
    "Develop marketing strategies tailored to different regions, leveraging cultural trends and preferences. Consider international partnerships for co-productions to enhance global appeal."
   ]
  },
  {
   "cell_type": "code",
   "execution_count": null,
   "id": "c0f7fce9-0cc4-49ee-8c19-744c24ac72ec",
   "metadata": {},
   "outputs": [],
   "source": []
  }
 ],
 "metadata": {
  "kernelspec": {
   "display_name": "Python 3 (ipykernel)",
   "language": "python",
   "name": "python3"
  },
  "language_info": {
   "codemirror_mode": {
    "name": "ipython",
    "version": 3
   },
   "file_extension": ".py",
   "mimetype": "text/x-python",
   "name": "python",
   "nbconvert_exporter": "python",
   "pygments_lexer": "ipython3",
   "version": "3.11.7"
  }
 },
 "nbformat": 4,
 "nbformat_minor": 5
}
